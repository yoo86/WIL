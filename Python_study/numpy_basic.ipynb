{
  "nbformat": 4,
  "nbformat_minor": 0,
  "metadata": {
    "colab": {
      "name": "numpy_basic_유정인.ipynb",
      "provenance": [],
      "collapsed_sections": [],
      "authorship_tag": "ABX9TyNmIJVBEghtlyRzz0lzgof9",
      "include_colab_link": true
    },
    "kernelspec": {
      "name": "python3",
      "display_name": "Python 3"
    },
    "language_info": {
      "name": "python"
    }
  },
  "cells": [
    {
      "cell_type": "markdown",
      "metadata": {
        "id": "view-in-github",
        "colab_type": "text"
      },
      "source": [
        "<a href=\"https://colab.research.google.com/github/yoo86/WIL/blob/main/numpy_basic_%EC%9C%A0%EC%A0%95%EC%9D%B8.ipynb\" target=\"_parent\"><img src=\"https://colab.research.google.com/assets/colab-badge.svg\" alt=\"Open In Colab\"/></a>"
      ]
    },
    {
      "cell_type": "code",
      "execution_count": 2,
      "metadata": {
        "id": "oekXnZVNadWU"
      },
      "outputs": [],
      "source": [
        "import numpy as np"
      ]
    },
    {
      "cell_type": "markdown",
      "source": [
        "# Section 1. N차원 배열 생성"
      ],
      "metadata": {
        "id": "lx6HOXlTb2ZB"
      }
    },
    {
      "cell_type": "markdown",
      "source": [
        "## **1-1. N차원 배열(ndarray) 생성하기**"
      ],
      "metadata": {
        "id": "AmLROXiIb6N_"
      }
    },
    {
      "cell_type": "code",
      "source": [
        "# 1차원 배열\n",
        "arr = np.array([1, 2, 3])\n",
        "print(arr)\n",
        "\n",
        "# 2차원 배열\n",
        "arr = np.array([[1, 2, 3],\n",
        "                [4, 5, 6]])\n",
        "print(arr)"
      ],
      "metadata": {
        "colab": {
          "base_uri": "https://localhost:8080/"
        },
        "id": "vkQ_52_Zbrp7",
        "outputId": "3a14b20c-9706-47ad-be36-4458d6d7c765"
      },
      "execution_count": 5,
      "outputs": [
        {
          "output_type": "stream",
          "name": "stdout",
          "text": [
            "[1 2 3]\n",
            "[[1 2 3]\n",
            " [4 5 6]]\n"
          ]
        }
      ]
    },
    {
      "cell_type": "code",
      "source": [
        "print(type([1, 2, 3]))  # list type\n",
        "print(type(arr))  # numpy.ndarray type"
      ],
      "metadata": {
        "colab": {
          "base_uri": "https://localhost:8080/"
        },
        "id": "8k5PLlWmcDK2",
        "outputId": "c76ba0b0-5567-4a66-b0f1-75d894cf1d2a"
      },
      "execution_count": 8,
      "outputs": [
        {
          "output_type": "stream",
          "name": "stdout",
          "text": [
            "<class 'list'>\n",
            "<class 'numpy.ndarray'>\n"
          ]
        }
      ]
    },
    {
      "cell_type": "code",
      "source": [
        "tpl = (4, 5, 6)\n",
        "arr = np.array(tpl)\n",
        "print(arr)\n",
        "\n",
        "lst = [1, 2, 3]\n",
        "arr = np.array(lst)\n",
        "print(arr)\n",
        "\n",
        "lst2 = [[1, 2, 3], [4, 5, 6]]\n",
        "arr2 = np.array(lst2)\n",
        "print(arr2)"
      ],
      "metadata": {
        "colab": {
          "base_uri": "https://localhost:8080/"
        },
        "id": "jX27upKlcN_A",
        "outputId": "3103b802-4f06-430b-8873-99d0def53c80"
      },
      "execution_count": 9,
      "outputs": [
        {
          "output_type": "stream",
          "name": "stdout",
          "text": [
            "[4 5 6]\n",
            "[1 2 3]\n",
            "[[1 2 3]\n",
            " [4 5 6]]\n"
          ]
        }
      ]
    },
    {
      "cell_type": "code",
      "source": [
        "arr1 = np.array([1, 2, 3])\n",
        "arr2 = np.array([[1, 2, 3], [4, 5, 6]])\n",
        "\n",
        "# shape\n",
        "print(arr1.shape, arr2.shape)\n",
        "\n",
        "# ndim\n",
        "print(arr1.ndim, arr2.ndim)  # 차원 : dimension\n",
        "\n",
        "# size\n",
        "print(arr.size, arr2.size)"
      ],
      "metadata": {
        "colab": {
          "base_uri": "https://localhost:8080/"
        },
        "id": "44gImbDjcimu",
        "outputId": "e0b12797-a3bc-4aef-d5e7-1a087401ff2b"
      },
      "execution_count": null,
      "outputs": [
        {
          "output_type": "stream",
          "name": "stdout",
          "text": [
            "(3,) (2, 3)\n",
            "1 2\n",
            "3 6\n"
          ]
        }
      ]
    },
    {
      "cell_type": "markdown",
      "source": [
        "## **1-2. N차원 배열의 데이터 타입**"
      ],
      "metadata": {
        "id": "zrUner8FdByL"
      }
    },
    {
      "cell_type": "code",
      "source": [
        "arr = np.array([1, 2, 3])\n",
        "arr2 = np.array([1, 2, 3], dtype=np.float)  # 데이터 형식을 지정할 때에는 arr형식의 인자로 dtype을 사용\n",
        "arr3 = np.array([1.1, 2.2, 3.3], dtype=np.int)\n",
        "arr4 = np.array([0, 1, 1], dtype=np.bool)\n",
        "\n",
        "print(arr, arr.dtype)\n",
        "print(arr2, arr2.dtype)  # dtype -> float64 / 뒤에 있는 숫자(ex. 64)는 해당 arr의 각 성분을 표현할 때 메모리 상에서 몇 비트를 사용할 것인지 나타낸 것\n",
        "print(arr3, arr3.dtype)  # int 타입이라 뒤에 소수점은 버림\n",
        "print(arr4, arr4.dtype)"
      ],
      "metadata": {
        "colab": {
          "base_uri": "https://localhost:8080/"
        },
        "id": "1R577F6CdGZP",
        "outputId": "7d5a6f26-6aaf-4ba9-bc9e-23d64aaf5ff3"
      },
      "execution_count": null,
      "outputs": [
        {
          "output_type": "stream",
          "name": "stdout",
          "text": [
            "[1 2 3] int64\n",
            "[1. 2. 3.] float64\n",
            "[1 2 3] int64\n",
            "[False  True  True] bool\n",
            "[0 1 2 3] int64\n",
            "[0. 1. 2. 3.] float32\n"
          ]
        }
      ]
    },
    {
      "cell_type": "code",
      "source": [
        "# astype(타입 변형)\n",
        "arr = np.array([0, 1, 2, 3])\n",
        "print(arr, arr.dtype)\n",
        "\n",
        "arr = arr.astype(np.float32)\n",
        "print(arr, arr.dtype)"
      ],
      "metadata": {
        "colab": {
          "base_uri": "https://localhost:8080/"
        },
        "id": "RdukDGrle7ZL",
        "outputId": "91c95098-b72b-48d9-8e8a-c72642c73bd6"
      },
      "execution_count": null,
      "outputs": [
        {
          "output_type": "stream",
          "name": "stdout",
          "text": [
            "[0 1 2 3] int64\n",
            "[0. 1. 2. 3.] float32\n"
          ]
        }
      ]
    },
    {
      "cell_type": "code",
      "source": [
        "# python list\n",
        "arr = [1, 2, 3.4]\n",
        "print(arr)  # 여러가지 데이터 타입 삽입 가능"
      ],
      "metadata": {
        "colab": {
          "base_uri": "https://localhost:8080/"
        },
        "id": "4UVWCEVte_zi",
        "outputId": "8350563b-a368-4921-ccab-d73b66199130"
      },
      "execution_count": null,
      "outputs": [
        {
          "output_type": "stream",
          "name": "stdout",
          "text": [
            "[1, 2, 3.4]\n"
          ]
        }
      ]
    },
    {
      "cell_type": "code",
      "source": [
        "# numpy list\n",
        "arr = np.array([1, 2, 3.4])  # 데이터 타입이 혼재하는 경우 float64로 데이터 타입 통일\n",
        "print(arr, arr.dtype)  # 단일 데이터 타입만 허용\n",
        "\n",
        "arr1 = np.array([1, 2, 3.4, \"64\"])\n",
        "print(arr1, arr1.dtype)  # 유니코드 형식으로 통일\n",
        "\n",
        "arr2 = np.array([1, 2, 3.4, \"64\"], dtype=int)  # int타입으로 변환 가능\n",
        "print(arr2, arr2.dtype)"
      ],
      "metadata": {
        "colab": {
          "base_uri": "https://localhost:8080/"
        },
        "id": "H2YR0dvCfU6F",
        "outputId": "cb5098f3-4db2-41ee-bbac-eeedcf909348"
      },
      "execution_count": null,
      "outputs": [
        {
          "output_type": "stream",
          "name": "stdout",
          "text": [
            "[1.  2.  3.4] float64\n",
            "['1' '2' '3.4' '64'] <U32\n",
            "[ 1  2  3 64] int64\n"
          ]
        }
      ]
    },
    {
      "cell_type": "code",
      "source": [
        "# 문자열이 섞인 array를 int타입으로 변환하려는 경우 오류 발생\n",
        "arr = np.array([1, 2, 3.4, \"64, 문자열\"], dtype=int)\n",
        "print(arr, arr.dtype)"
      ],
      "metadata": {
        "id": "3NLNB1MxgSZu"
      },
      "execution_count": null,
      "outputs": []
    },
    {
      "cell_type": "markdown",
      "source": [
        "## **1-3. 정해진 형식의 N차원 배열 생성하기**"
      ],
      "metadata": {
        "id": "KXUUTq1Jgf4m"
      }
    },
    {
      "cell_type": "code",
      "source": [
        "# np.zeros()\n",
        "arr = np.zeros((2, 2))  # 함수 인자로는 shape\n",
        "print(arr)\n",
        "\n",
        "# np.ones()\n",
        "arr = np.ones([3, 5])\n",
        "print(arr)\n",
        "\n",
        "# np.full()\n",
        "arr = np.full((2, 3), 5)\n",
        "print(arr)\n",
        "\n",
        "# np.eye()\n",
        "# 행을 n, 열을 m이라고 했을 때, n by m shape을 가진 대각 원소가 1인 행렬을 만듦\n",
        "arr = np.eye(3, 4, k=1)  # k : 대각 원소의 발생 지점(음수도 지정 가능)\n",
        "print(arr)\n",
        "\n",
        "arr = np.eye(3)  # 정방 행렬\n",
        "print(arr)"
      ],
      "metadata": {
        "colab": {
          "base_uri": "https://localhost:8080/"
        },
        "id": "hvegyF6-gkD6",
        "outputId": "91282e03-957c-4605-8138-17d6da279aa7"
      },
      "execution_count": 12,
      "outputs": [
        {
          "output_type": "stream",
          "name": "stdout",
          "text": [
            "[[0. 0.]\n",
            " [0. 0.]]\n",
            "[[1. 1. 1. 1. 1.]\n",
            " [1. 1. 1. 1. 1.]\n",
            " [1. 1. 1. 1. 1.]]\n",
            "[[5 5 5]\n",
            " [5 5 5]]\n",
            "[[0. 1. 0. 0.]\n",
            " [0. 0. 1. 0.]\n",
            " [0. 0. 0. 1.]]\n",
            "[[1. 0. 0.]\n",
            " [0. 1. 0.]\n",
            " [0. 0. 1.]]\n"
          ]
        }
      ]
    },
    {
      "cell_type": "code",
      "source": [
        "arr = np.array([[1, 2, 3],\n",
        "                [4, 5, 6]])\n",
        "\n",
        "# shape은 유지\n",
        "# np.zeros_like()\n",
        "arr_z = np.zeros_like(arr)\n",
        "print(arr_z)\n",
        "\n",
        "# np.ones_like()\n",
        "arr_o = np.ones_like(arr)\n",
        "print(arr_o)\n",
        "\n",
        "# np.full_like()\n",
        "arr_f = np.full_like(arr, 9)\n",
        "print(arr_f)"
      ],
      "metadata": {
        "colab": {
          "base_uri": "https://localhost:8080/"
        },
        "id": "usPRVM31jwfv",
        "outputId": "6802f39f-20d3-491f-c304-ad671073f94b"
      },
      "execution_count": 13,
      "outputs": [
        {
          "output_type": "stream",
          "name": "stdout",
          "text": [
            "[[0 0 0]\n",
            " [0 0 0]]\n",
            "[[1 1 1]\n",
            " [1 1 1]]\n",
            "[[9 9 9]\n",
            " [9 9 9]]\n"
          ]
        }
      ]
    },
    {
      "cell_type": "markdown",
      "source": [
        "## **1-4. 특정 범위의 값을 가지는 N차원 배열 생성하기**"
      ],
      "metadata": {
        "id": "BS5vccxKkUEA"
      }
    },
    {
      "cell_type": "code",
      "source": [
        "lst = list(range(0, 9, 2))\n",
        "print(lst)"
      ],
      "metadata": {
        "colab": {
          "base_uri": "https://localhost:8080/"
        },
        "id": "JyO11FNGkX8-",
        "outputId": "e6543dc5-97c9-4f6e-9498-56c08cc84f10"
      },
      "execution_count": 14,
      "outputs": [
        {
          "output_type": "stream",
          "name": "stdout",
          "text": [
            "[0, 2, 4, 6, 8]\n"
          ]
        }
      ]
    },
    {
      "cell_type": "code",
      "source": [
        "arr = np.arange(9)\n",
        "print(arr)\n",
        "\n",
        "arr = np.arange(3, 13)\n",
        "print(arr)\n",
        "\n",
        "arr = np.arange(3, 13, 3)\n",
        "print(arr)\n",
        "\n",
        "arr = np.arange(stop=9, step=2, start=0)  # (0, 9, 2)\n",
        "print(arr)"
      ],
      "metadata": {
        "colab": {
          "base_uri": "https://localhost:8080/"
        },
        "id": "Xpe0IWfDknSc",
        "outputId": "345acbc3-a129-4e8b-b592-0be93c879ebc"
      },
      "execution_count": null,
      "outputs": [
        {
          "output_type": "stream",
          "name": "stdout",
          "text": [
            "[0 1 2 3 4 5 6 7 8]\n",
            "[ 3  4  5  6  7  8  9 10 11 12]\n",
            "[ 3  6  9 12]\n",
            "[0 2 4 6 8]\n"
          ]
        }
      ]
    },
    {
      "cell_type": "code",
      "source": [
        "# np.linspace()\n",
        "arr = np.linspace(0, 100, 11)  # 0~100의 숫자(100 포함)를 균등한 간격으로 11개 출력\n",
        "print(arr)"
      ],
      "metadata": {
        "colab": {
          "base_uri": "https://localhost:8080/"
        },
        "id": "j68NcuUZlEu4",
        "outputId": "22176030-140f-40ad-ea2d-71879b6b4992"
      },
      "execution_count": null,
      "outputs": [
        {
          "output_type": "stream",
          "name": "stdout",
          "text": [
            "[  0.  10.  20.  30.  40.  50.  60.  70.  80.  90. 100.]\n"
          ]
        }
      ]
    },
    {
      "cell_type": "code",
      "source": [
        "# np.logspace()\n",
        "arr = np.linspace(1, 10, 10)\n",
        "print(arr, end=\"\\n\\n\")\n",
        "\n",
        "arr = np.logspace(1, 10, 10, base=2)  # base : log 밑 / 기본값 : 상용로그\n",
        "print(arr, end=\"\\n\\n\")\n",
        "\n",
        "arr = np.logspace(1, 10, 10)\n",
        "print(arr)"
      ],
      "metadata": {
        "colab": {
          "base_uri": "https://localhost:8080/"
        },
        "id": "f5phe1RgljGC",
        "outputId": "1aa71527-5160-469d-9b7b-9d0a376f357b"
      },
      "execution_count": 17,
      "outputs": [
        {
          "output_type": "stream",
          "name": "stdout",
          "text": [
            "[ 1.  2.  3.  4.  5.  6.  7.  8.  9. 10.]\n",
            "\n",
            "[   2.    4.    8.   16.   32.   64.  128.  256.  512. 1024.]\n",
            "\n",
            "[1.e+01 1.e+02 1.e+03 1.e+04 1.e+05 1.e+06 1.e+07 1.e+08 1.e+09 1.e+10]\n"
          ]
        }
      ]
    },
    {
      "cell_type": "markdown",
      "source": [
        "## **1-5. 난수로 이루어진 N차원 배열 생성하기**"
      ],
      "metadata": {
        "id": "2CNZXM5cl8Sm"
      }
    },
    {
      "cell_type": "code",
      "source": [
        "import matplotlib.pyplot as plt"
      ],
      "metadata": {
        "id": "ELSpL2QGmAuk"
      },
      "execution_count": null,
      "outputs": []
    },
    {
      "cell_type": "code",
      "source": [
        "# np.random.normal()\n",
        "# 정규분포의 확률 밀도에서 표본을 추출하는 함수\n",
        "# 정규분포 : \n",
        "\n",
        "arr = np.random.normal(0, 1, (2, 3))\n",
        "print(arr)"
      ],
      "metadata": {
        "colab": {
          "base_uri": "https://localhost:8080/"
        },
        "id": "BTOgJs1BmOuU",
        "outputId": "7d180e84-dab7-46af-c56d-7a82f348ac12"
      },
      "execution_count": null,
      "outputs": [
        {
          "output_type": "stream",
          "name": "stdout",
          "text": [
            "[[-1.23990323 -0.24061216 -0.56570392]\n",
            " [ 2.62437102 -0.15661735  0.88502575]]\n"
          ]
        }
      ]
    },
    {
      "cell_type": "code",
      "source": [
        "# plt.hist()\n",
        "# 인수에 대해 계산하여 histogram(도수분포표)을 그리는 함수\n",
        "\n",
        "arr = np.random.normal(0, 1, 1000000)\n",
        "plt.hist(arr, bins=100)  # bins : 몇 개의 구간으로 나타낼 것인지\n",
        "plt.show()"
      ],
      "metadata": {
        "colab": {
          "base_uri": "https://localhost:8080/",
          "height": 265
        },
        "id": "XiXRnatrmtF0",
        "outputId": "31666e0d-0189-4a99-a27a-2fca3f1e47bc"
      },
      "execution_count": null,
      "outputs": [
        {
          "output_type": "display_data",
          "data": {
            "image/png": "[encoded data removed]",
            "text/plain": [
              "<Figure size 432x288 with 1 Axes>"
            ]
          },
          "metadata": {
            "needs_background": "light"
          }
        }
      ]
    },
    {
      "cell_type": "code",
      "source": [
        "# np.random.rand()\n",
        "# 0에서 1사이의 값을 균등한 비율로 표본을 추출하는 함수\n",
        "\n",
        "arr = np.random.rand(1000)  # 함수 인자 : 표본 개수\n",
        "plt.hist(arr, bins=100)\n",
        "plt.show()"
      ],
      "metadata": {
        "colab": {
          "base_uri": "https://localhost:8080/",
          "height": 265
        },
        "id": "PgUlu6Zcm-kp",
        "outputId": "6a939222-acbe-499d-ad62-d7d36c12a5aa"
      },
      "execution_count": null,
      "outputs": [
        {
          "output_type": "display_data",
          "data": {
            "image/png": "[encoded data removed]",
            "text/plain": [
              "<Figure size 432x288 with 1 Axes>"
            ]
          },
          "metadata": {
            "needs_background": "light"
          }
        }
      ]
    },
    {
      "cell_type": "code",
      "source": [
        "# np.random.randn()\n",
        "# -1부터 1사이의 값을 정규분포(Gaussian distribution)의 표본을 추출하는 함수\n",
        "\n",
        "arr = np.random.randn(1000)\n",
        "plt.hist(arr, bins=100)\n",
        "plt.show()"
      ],
      "metadata": {
        "colab": {
          "base_uri": "https://localhost:8080/",
          "height": 265
        },
        "id": "rEcTzxwEnMcp",
        "outputId": "44ffcb3a-3fd4-42e5-95c0-0ebb69432a0f"
      },
      "execution_count": null,
      "outputs": [
        {
          "output_type": "display_data",
          "data": {
            "image/png": "[encoded data removed]",
            "text/plain": [
              "<Figure size 432x288 with 1 Axes>"
            ]
          },
          "metadata": {
            "needs_background": "light"
          }
        }
      ]
    },
    {
      "cell_type": "code",
      "source": [
        "# np.random.randint()\n",
        "# 랜덤한 정수만 출력하는 함수\n",
        "\n",
        "arr = np.random.randint(low=1, high=5, size=10)  # low 이상 high 미만 값을 랜덤하게 출력\n",
        "print(arr)\n",
        "\n",
        "arr = np.random.randint(1, 5, size=(3,4))\n",
        "print(arr)"
      ],
      "metadata": {
        "colab": {
          "base_uri": "https://localhost:8080/"
        },
        "id": "eO0kHYo3nyqB",
        "outputId": "761bb6f4-5710-4518-e5a9-31dae3c60021"
      },
      "execution_count": null,
      "outputs": [
        {
          "output_type": "stream",
          "name": "stdout",
          "text": [
            "[[1 3 3 1]\n",
            " [3 2 3 3]\n",
            " [4 2 3 2]]\n"
          ]
        }
      ]
    },
    {
      "cell_type": "code",
      "source": [
        "arr = np.random.randint(100, 200, 1000)\n",
        "plt.hist(arr, bins=100)\n",
        "plt.show()"
      ],
      "metadata": {
        "colab": {
          "base_uri": "https://localhost:8080/",
          "height": 265
        },
        "id": "A0dAkXbhoR0N",
        "outputId": "bc11428a-21c7-4ab0-d928-dbd2834c88b1"
      },
      "execution_count": null,
      "outputs": [
        {
          "output_type": "display_data",
          "data": {
            "image/png": "[encoded data removed]",
            "text/plain": [
              "<Figure size 432x288 with 1 Axes>"
            ]
          },
          "metadata": {
            "needs_background": "light"
          }
        }
      ]
    },
    {
      "cell_type": "code",
      "source": [
        "# rand(), randn(), randint()\n",
        "# 가장 많이 사용되는 랜덤 함수"
      ],
      "metadata": {
        "id": "ihNjXVKxoZf4"
      },
      "execution_count": null,
      "outputs": []
    },
    {
      "cell_type": "markdown",
      "source": [
        "## **1-6. 시드(Seed)값을 통한 난수 생성 제어**"
      ],
      "metadata": {
        "id": "gvgx8xn1oiBY"
      }
    },
    {
      "cell_type": "code",
      "source": [
        "arr = np.random.rand(10)\n",
        "print(\"난수 발생 1\\n\", arr)\n",
        "\n",
        "arr = np.random.rand(10)\n",
        "print(\"난수 발생 2\\n\", arr)"
      ],
      "metadata": {
        "colab": {
          "base_uri": "https://localhost:8080/"
        },
        "id": "dpvb1j2XonUB",
        "outputId": "1eeb2296-8baa-4047-b977-e7c52ebdc282"
      },
      "execution_count": null,
      "outputs": [
        {
          "output_type": "stream",
          "name": "stdout",
          "text": [
            "난수 발생 1\n",
            " [0.41919451 0.6852195  0.20445225 0.87811744 0.02738759 0.67046751\n",
            " 0.4173048  0.55868983 0.14038694 0.19810149]\n",
            "난수 발생 2\n",
            " [0.80074457 0.96826158 0.31342418 0.69232262 0.87638915 0.89460666\n",
            " 0.08504421 0.03905478 0.16983042 0.8781425 ]\n"
          ]
        }
      ]
    },
    {
      "cell_type": "code",
      "source": [
        "# seed로 시작점을 지정하여 1과 2에서 동일한 난수 표본 생성\n",
        "# 항상 seed 함수를 적어야 동일한 표본 생성 가능\n",
        "\n",
        "np.random.seed(1)  # seed 함수\n",
        "arr = np.random.rand(10)\n",
        "print(\"난수 발생 1\\n\", arr)\n",
        "\n",
        "np.random.seed(1)  # seed 함수\n",
        "arr = np.random.rand(10)\n",
        "print(\"난수 발생 2\\n\", arr)"
      ],
      "metadata": {
        "colab": {
          "base_uri": "https://localhost:8080/"
        },
        "id": "koZJeI1no2Ky",
        "outputId": "92349ec1-88d5-46c2-8d12-9a7480eafc29"
      },
      "execution_count": null,
      "outputs": [
        {
          "output_type": "stream",
          "name": "stdout",
          "text": [
            "난수 발생 1\n",
            " [4.17022005e-01 7.20324493e-01 1.14374817e-04 3.02332573e-01\n",
            " 1.46755891e-01 9.23385948e-02 1.86260211e-01 3.45560727e-01\n",
            " 3.96767474e-01 5.38816734e-01]\n",
            "난수 발생 2\n",
            " [4.17022005e-01 7.20324493e-01 1.14374817e-04 3.02332573e-01\n",
            " 1.46755891e-01 9.23385948e-02 1.86260211e-01 3.45560727e-01\n",
            " 3.96767474e-01 5.38816734e-01]\n"
          ]
        }
      ]
    },
    {
      "cell_type": "markdown",
      "source": [
        "# Section 2. N차원 배열의 인덱싱"
      ],
      "metadata": {
        "id": "LQFCIDxrtfMq"
      }
    },
    {
      "cell_type": "markdown",
      "source": [
        "## **2-1. 배열의 index 접근하기**"
      ],
      "metadata": {
        "id": "7NkIN3rHtmFA"
      }
    },
    {
      "cell_type": "code",
      "source": [
        ""
      ],
      "metadata": {
        "id": "8McoJvZ2tpjp"
      },
      "execution_count": null,
      "outputs": []
    }
  ]
}
