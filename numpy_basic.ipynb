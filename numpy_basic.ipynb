{
  "nbformat": 4,
  "nbformat_minor": 0,
  "metadata": {
    "colab": {
      "name": "numpy_basic.ipynb",
      "provenance": [],
      "collapsed_sections": [],
      "authorship_tag": "ABX9TyN57hEV4PHfIsW4opj8V6Y5",
      "include_colab_link": true
    },
    "kernelspec": {
      "name": "python3",
      "display_name": "Python 3"
    },
    "language_info": {
      "name": "python"
    }
  },
  "cells": [
    {
      "cell_type": "markdown",
      "metadata": {
        "id": "view-in-github",
        "colab_type": "text"
      },
      "source": [
        "<a href=\"https://colab.research.google.com/github/yoo86/WIL/blob/main/numpy_basic.ipynb\" target=\"_parent\"><img src=\"https://colab.research.google.com/assets/colab-badge.svg\" alt=\"Open In Colab\"/></a>"
      ]
    },
    {
      "cell_type": "code",
      "execution_count": 2,
      "metadata": {
        "id": "oekXnZVNadWU"
      },
      "outputs": [],
      "source": [
        "import numpy as np"
      ]
    },
    {
      "cell_type": "markdown",
      "source": [
        "# Section 1. N차원 배열 생성"
      ],
      "metadata": {
        "id": "lx6HOXlTb2ZB"
      }
    },
    {
      "cell_type": "markdown",
      "source": [
        "## **1-1. N차원 배열(ndarray) 생성하기**"
      ],
      "metadata": {
        "id": "AmLROXiIb6N_"
      }
    },
    {
      "cell_type": "code",
      "source": [
        "# 1차원 배열\n",
        "arr = np.array([1, 2, 3])\n",
        "print(arr)\n",
        "\n",
        "# 2차원 배열\n",
        "arr = np.array([[1, 2, 3],\n",
        "                [4, 5, 6]])\n",
        "print(arr)"
      ],
      "metadata": {
        "colab": {
          "base_uri": "https://localhost:8080/"
        },
        "id": "vkQ_52_Zbrp7",
        "outputId": "abf4ac03-1b70-4ae0-aa07-214042244dc8"
      },
      "execution_count": 3,
      "outputs": [
        {
          "output_type": "stream",
          "name": "stdout",
          "text": [
            "[1 2 3]\n",
            "[[1 2 3]\n",
            " [4 5 6]]\n"
          ]
        }
      ]
    },
    {
      "cell_type": "code",
      "source": [
        "print(type([1, 2, 3]))  # list type\n",
        "print(type(arr))  # numpy.ndarray type"
      ],
      "metadata": {
        "colab": {
          "base_uri": "https://localhost:8080/"
        },
        "id": "8k5PLlWmcDK2",
        "outputId": "0817a5a6-18f0-42e8-aad5-9dc35c771eb0"
      },
      "execution_count": 4,
      "outputs": [
        {
          "output_type": "stream",
          "name": "stdout",
          "text": [
            "<class 'list'>\n",
            "<class 'numpy.ndarray'>\n"
          ]
        }
      ]
    },
    {
      "cell_type": "code",
      "source": [
        "tpl = (4, 5, 6)\n",
        "arr = np.array(tpl)\n",
        "print(arr)\n",
        "\n",
        "lst = [1, 2, 3]\n",
        "arr = np.array(lst)\n",
        "print(arr)\n",
        "\n",
        "lst2 = [[1, 2, 3], [4, 5, 6]]\n",
        "arr2 = np.array(lst2)\n",
        "print(arr2)"
      ],
      "metadata": {
        "colab": {
          "base_uri": "https://localhost:8080/"
        },
        "id": "jX27upKlcN_A",
        "outputId": "cda514a9-2842-4423-9c8a-01f84d930afb"
      },
      "execution_count": 5,
      "outputs": [
        {
          "output_type": "stream",
          "name": "stdout",
          "text": [
            "[4 5 6]\n",
            "[1 2 3]\n",
            "[[1 2 3]\n",
            " [4 5 6]]\n"
          ]
        }
      ]
    },
    {
      "cell_type": "code",
      "source": [
        "arr1 = np.array([1, 2, 3])\n",
        "arr2 = np.array([[1, 2, 3], [4, 5, 6]])\n",
        "\n",
        "# shape\n",
        "print(arr1.shape, arr2.shape)\n",
        "\n",
        "# ndim\n",
        "print(arr1.ndim, arr2.ndim)  # 차원 : dimension\n",
        "\n",
        "# size\n",
        "print(arr.size, arr2.size)"
      ],
      "metadata": {
        "colab": {
          "base_uri": "https://localhost:8080/"
        },
        "id": "44gImbDjcimu",
        "outputId": "43cbbfdc-71bc-4a2e-9d90-d477bfd218c7"
      },
      "execution_count": 6,
      "outputs": [
        {
          "output_type": "stream",
          "name": "stdout",
          "text": [
            "(3,) (2, 3)\n",
            "1 2\n",
            "3 6\n"
          ]
        }
      ]
    },
    {
      "cell_type": "markdown",
      "source": [
        "## **1-2. N차원 배열의 데이터 타입**"
      ],
      "metadata": {
        "id": "zrUner8FdByL"
      }
    },
    {
      "cell_type": "code",
      "source": [
        "arr = np.array([1, 2, 3])\n",
        "arr2 = np.array([1, 2, 3], dtype=np.float)  # 데이터 형식을 지정할 때에는 arr형식의 인자로 dtype을 사용\n",
        "arr3 = np.array([1.1, 2.2, 3.3], dtype=np.int)\n",
        "arr4 = np.array([0, 1, 1], dtype=np.bool)\n",
        "\n",
        "print(arr, arr.dtype)\n",
        "print(arr2, arr2.dtype)  # dtype -> float64 / 뒤에 있는 숫자(ex. 64)는 해당 arr의 각 성분을 표현할 때 메모리 상에서 몇 비트를 사용할 것인지 나타낸 것\n",
        "print(arr3, arr3.dtype)  # int 타입이라 뒤에 소수점은 버림\n",
        "print(arr4, arr4.dtype)"
      ],
      "metadata": {
        "colab": {
          "base_uri": "https://localhost:8080/"
        },
        "id": "1R577F6CdGZP",
        "outputId": "9982bf40-1138-4ec0-e195-323c040d2ee7"
      },
      "execution_count": 7,
      "outputs": [
        {
          "output_type": "stream",
          "name": "stdout",
          "text": [
            "[1 2 3] int64\n",
            "[1. 2. 3.] float64\n",
            "[1 2 3] int64\n",
            "[False  True  True] bool\n"
          ]
        }
      ]
    },
    {
      "cell_type": "code",
      "source": [
        "# astype(타입 변형)\n",
        "arr = np.array([0, 1, 2, 3])\n",
        "print(arr, arr.dtype)\n",
        "\n",
        "arr = arr.astype(np.float32)\n",
        "print(arr, arr.dtype)"
      ],
      "metadata": {
        "colab": {
          "base_uri": "https://localhost:8080/"
        },
        "id": "RdukDGrle7ZL",
        "outputId": "968836cd-d72f-4ae0-c2af-4d2546d54b09"
      },
      "execution_count": 8,
      "outputs": [
        {
          "output_type": "stream",
          "name": "stdout",
          "text": [
            "[0 1 2 3] int64\n",
            "[0. 1. 2. 3.] float32\n"
          ]
        }
      ]
    },
    {
      "cell_type": "code",
      "source": [
        "# python list\n",
        "arr = [1, 2, 3.4]\n",
        "print(arr)  # 여러가지 데이터 타입 삽입 가능"
      ],
      "metadata": {
        "colab": {
          "base_uri": "https://localhost:8080/"
        },
        "id": "4UVWCEVte_zi",
        "outputId": "2feac063-1ee0-4183-a274-81742c800b88"
      },
      "execution_count": 9,
      "outputs": [
        {
          "output_type": "stream",
          "name": "stdout",
          "text": [
            "[1, 2, 3.4]\n"
          ]
        }
      ]
    },
    {
      "cell_type": "code",
      "source": [
        "# numpy list\n",
        "arr = np.array([1, 2, 3.4])  # 데이터 타입이 혼재하는 경우 float64로 데이터 타입 통일\n",
        "print(arr, arr.dtype)  # 단일 데이터 타입만 허용\n",
        "\n",
        "arr1 = np.array([1, 2, 3.4, \"64\"])\n",
        "print(arr1, arr1.dtype)  # 유니코드 형식으로 통일\n",
        "\n",
        "arr2 = np.array([1, 2, 3.4, \"64\"], dtype=int)  # int타입으로 변환 가능\n",
        "print(arr2, arr2.dtype)"
      ],
      "metadata": {
        "colab": {
          "base_uri": "https://localhost:8080/"
        },
        "id": "H2YR0dvCfU6F",
        "outputId": "9ea99c49-6da2-4283-8397-80cd10c5f588"
      },
      "execution_count": 10,
      "outputs": [
        {
          "output_type": "stream",
          "name": "stdout",
          "text": [
            "[1.  2.  3.4] float64\n",
            "['1' '2' '3.4' '64'] <U32\n",
            "[ 1  2  3 64] int64\n"
          ]
        }
      ]
    },
    {
      "cell_type": "code",
      "source": [
        "# 문자열이 섞인 array를 int타입으로 변환하려는 경우 오류 발생\n",
        "arr = np.array([1, 2, 3.4, \"64, 문자열\"], dtype=int)\n",
        "print(arr, arr.dtype)"
      ],
      "metadata": {
        "id": "3NLNB1MxgSZu"
      },
      "execution_count": null,
      "outputs": []
    },
    {
      "cell_type": "markdown",
      "source": [
        "## **1-3. 정해진 형식의 N차원 배열 생성하기**"
      ],
      "metadata": {
        "id": "KXUUTq1Jgf4m"
      }
    },
    {
      "cell_type": "code",
      "source": [
        "# np.zeros()\n",
        "arr = np.zeros((2, 2))  # 함수 인자로는 shape\n",
        "print(arr)\n",
        "\n",
        "# np.ones()\n",
        "arr = np.ones([3, 5])\n",
        "print(arr)\n",
        "\n",
        "# np.full()\n",
        "arr = np.full((2, 3), 5)\n",
        "print(arr)\n",
        "\n",
        "# np.eye()\n",
        "# 행을 n, 열을 m이라고 했을 때, n by m shape을 가진 대각 원소가 1인 행렬을 만듦\n",
        "arr = np.eye(3, 4, k=1)  # k : 대각 원소의 발생 지점(음수도 지정 가능)\n",
        "print(arr)\n",
        "\n",
        "arr = np.eye(3)  # 정방 행렬\n",
        "print(arr)"
      ],
      "metadata": {
        "colab": {
          "base_uri": "https://localhost:8080/"
        },
        "id": "hvegyF6-gkD6",
        "outputId": "b7fa27df-ac6a-485f-9c8f-d593813fa91a"
      },
      "execution_count": 13,
      "outputs": [
        {
          "output_type": "stream",
          "name": "stdout",
          "text": [
            "[[0. 0.]\n",
            " [0. 0.]]\n",
            "[[1. 1. 1. 1. 1.]\n",
            " [1. 1. 1. 1. 1.]\n",
            " [1. 1. 1. 1. 1.]]\n",
            "[[5 5 5]\n",
            " [5 5 5]]\n",
            "[[0. 1. 0. 0.]\n",
            " [0. 0. 1. 0.]\n",
            " [0. 0. 0. 1.]]\n",
            "[[1. 0. 0.]\n",
            " [0. 1. 0.]\n",
            " [0. 0. 1.]]\n"
          ]
        }
      ]
    },
    {
      "cell_type": "code",
      "source": [
        "arr = np.array([[1, 2, 3],\n",
        "                [4, 5, 6]])\n",
        "\n",
        "# shape은 유지\n",
        "# np.zeros_like()\n",
        "arr_z = np.zeros_like(arr)\n",
        "print(arr_z)\n",
        "\n",
        "# np.ones_like()\n",
        "arr_o = np.ones_like(arr)\n",
        "print(arr_o)\n",
        "\n",
        "# np.full_like()\n",
        "arr_f = np.full_like(arr, 9)\n",
        "print(arr_f)"
      ],
      "metadata": {
        "colab": {
          "base_uri": "https://localhost:8080/"
        },
        "id": "usPRVM31jwfv",
        "outputId": "4351406d-1822-4430-d11d-1a214d2e25c6"
      },
      "execution_count": 14,
      "outputs": [
        {
          "output_type": "stream",
          "name": "stdout",
          "text": [
            "[[0 0 0]\n",
            " [0 0 0]]\n",
            "[[1 1 1]\n",
            " [1 1 1]]\n",
            "[[9 9 9]\n",
            " [9 9 9]]\n"
          ]
        }
      ]
    },
    {
      "cell_type": "markdown",
      "source": [
        "## **1-4. 특정 범위의 값을 가지는 N차원 배열 생성하기**"
      ],
      "metadata": {
        "id": "BS5vccxKkUEA"
      }
    },
    {
      "cell_type": "code",
      "source": [
        "lst = list(range(0, 9, 2))\n",
        "print(lst)"
      ],
      "metadata": {
        "colab": {
          "base_uri": "https://localhost:8080/"
        },
        "id": "JyO11FNGkX8-",
        "outputId": "49222a7d-dc15-43b6-fb19-d8211a583a82"
      },
      "execution_count": 15,
      "outputs": [
        {
          "output_type": "stream",
          "name": "stdout",
          "text": [
            "[0, 2, 4, 6, 8]\n"
          ]
        }
      ]
    },
    {
      "cell_type": "code",
      "source": [
        "arr = np.arange(9)\n",
        "print(arr)\n",
        "\n",
        "arr = np.arange(3, 13)\n",
        "print(arr)\n",
        "\n",
        "arr = np.arange(3, 13, 3)\n",
        "print(arr)\n",
        "\n",
        "arr = np.arange(stop=9, step=2, start=0)  # (0, 9, 2)\n",
        "print(arr)"
      ],
      "metadata": {
        "colab": {
          "base_uri": "https://localhost:8080/"
        },
        "id": "Xpe0IWfDknSc",
        "outputId": "2c0f45df-a1e2-4ecc-a972-fdbda39a1483"
      },
      "execution_count": 16,
      "outputs": [
        {
          "output_type": "stream",
          "name": "stdout",
          "text": [
            "[0 1 2 3 4 5 6 7 8]\n",
            "[ 3  4  5  6  7  8  9 10 11 12]\n",
            "[ 3  6  9 12]\n",
            "[0 2 4 6 8]\n"
          ]
        }
      ]
    },
    {
      "cell_type": "code",
      "source": [
        "# np.linspace()\n",
        "arr = np.linspace(0, 100, 11)  # 0~100의 숫자(100 포함)를 균등한 간격으로 11개 출력\n",
        "print(arr)"
      ],
      "metadata": {
        "colab": {
          "base_uri": "https://localhost:8080/"
        },
        "id": "j68NcuUZlEu4",
        "outputId": "b4ecd916-e270-41fb-d681-73f33fa397b5"
      },
      "execution_count": 17,
      "outputs": [
        {
          "output_type": "stream",
          "name": "stdout",
          "text": [
            "[  0.  10.  20.  30.  40.  50.  60.  70.  80.  90. 100.]\n"
          ]
        }
      ]
    },
    {
      "cell_type": "code",
      "source": [
        "# np.logspace()\n",
        "arr = np.linspace(1, 10, 10)\n",
        "print(arr, end=\"\\n\\n\")\n",
        "\n",
        "arr = np.logspace(1, 10, 10, base=2)  # base : log 밑 / 기본값 : 상용로그\n",
        "print(arr, end=\"\\n\\n\")\n",
        "\n",
        "arr = np.logspace(1, 10, 10)\n",
        "print(arr)"
      ],
      "metadata": {
        "colab": {
          "base_uri": "https://localhost:8080/"
        },
        "id": "f5phe1RgljGC",
        "outputId": "19b7f9e7-5c90-46e6-e800-6d3b49e14332"
      },
      "execution_count": 18,
      "outputs": [
        {
          "output_type": "stream",
          "name": "stdout",
          "text": [
            "[ 1.  2.  3.  4.  5.  6.  7.  8.  9. 10.]\n",
            "\n",
            "[   2.    4.    8.   16.   32.   64.  128.  256.  512. 1024.]\n",
            "\n",
            "[1.e+01 1.e+02 1.e+03 1.e+04 1.e+05 1.e+06 1.e+07 1.e+08 1.e+09 1.e+10]\n"
          ]
        }
      ]
    },
    {
      "cell_type": "markdown",
      "source": [
        "## **1-5. 난수로 이루어진 N차원 배열 생성하기**"
      ],
      "metadata": {
        "id": "2CNZXM5cl8Sm"
      }
    },
    {
      "cell_type": "code",
      "source": [
        "import matplotlib.pyplot as plt"
      ],
      "metadata": {
        "id": "ELSpL2QGmAuk"
      },
      "execution_count": 19,
      "outputs": []
    },
    {
      "cell_type": "code",
      "source": [
        "# np.random.normal()\n",
        "# 정규분포의 확률 밀도에서 표본을 추출하는 함수\n",
        "# 정규분포 : \n",
        "\n",
        "arr = np.random.normal(0, 1, (2, 3))\n",
        "print(arr)"
      ],
      "metadata": {
        "colab": {
          "base_uri": "https://localhost:8080/"
        },
        "id": "BTOgJs1BmOuU",
        "outputId": "a55ae65d-cb9b-41bb-a626-f2117ade1ff4"
      },
      "execution_count": 20,
      "outputs": [
        {
          "output_type": "stream",
          "name": "stdout",
          "text": [
            "[[-1.94098902 -0.0842187  -0.55920761]\n",
            " [-0.27553627 -0.59176682 -1.2209488 ]]\n"
          ]
        }
      ]
    },
    {
      "cell_type": "code",
      "source": [
        "# plt.hist()\n",
        "# 인수에 대해 계산하여 histogram(도수분포표)을 그리는 함수\n",
        "\n",
        "arr = np.random.normal(0, 1, 1000000)\n",
        "plt.hist(arr, bins=100)  # bins : 몇 개의 구간으로 나타낼 것인지\n",
        "plt.show()"
      ],
      "metadata": {
        "colab": {
          "base_uri": "https://localhost:8080/",
          "height": 265
        },
        "id": "XiXRnatrmtF0",
        "outputId": "ede59b29-ce46-4010-8aa1-0a6531cf1238"
      },
      "execution_count": 21,
      "outputs": [
        {
          "output_type": "display_data",
          "data": {
            "image/png": "[encoded data removed]",
            "text/plain": [
              "<Figure size 432x288 with 1 Axes>"
            ]
          },
          "metadata": {
            "needs_background": "light"
          }
        }
      ]
    },
    {
      "cell_type": "code",
      "source": [
        "# np.random.rand()\n",
        "# 0에서 1사이의 값을 균등한 비율로 표본을 추출하는 함수\n",
        "\n",
        "arr = np.random.rand(1000)  # 함수 인자 : 표본 개수\n",
        "plt.hist(arr, bins=100)\n",
        "plt.show()"
      ],
      "metadata": {
        "colab": {
          "base_uri": "https://localhost:8080/",
          "height": 265
        },
        "id": "PgUlu6Zcm-kp",
        "outputId": "58504053-784b-46fa-f51e-8e969d439153"
      },
      "execution_count": 22,
      "outputs": [
        {
          "output_type": "display_data",
          "data": {
            "image/png": "[encoded data removed]",
            "text/plain": [
              "<Figure size 432x288 with 1 Axes>"
            ]
          },
          "metadata": {
            "needs_background": "light"
          }
        }
      ]
    },
    {
      "cell_type": "code",
      "source": [
        "# np.random.randn()\n",
        "# -1부터 1사이의 값을 정규분포(Gaussian distribution)의 표본을 추출하는 함수\n",
        "\n",
        "arr = np.random.randn(1000)\n",
        "plt.hist(arr, bins=100)\n",
        "plt.show()"
      ],
      "metadata": {
        "colab": {
          "base_uri": "https://localhost:8080/",
          "height": 265
        },
        "id": "rEcTzxwEnMcp",
        "outputId": "3348f900-faca-49f1-a8d5-191d1187f8b3"
      },
      "execution_count": 23,
      "outputs": [
        {
          "output_type": "display_data",
          "data": {
            "image/png": "[encoded data removed]",
            "text/plain": [
              "<Figure size 432x288 with 1 Axes>"
            ]
          },
          "metadata": {
            "needs_background": "light"
          }
        }
      ]
    },
    {
      "cell_type": "code",
      "source": [
        "# np.random.randint()\n",
        "# 랜덤한 정수만 출력하는 함수\n",
        "\n",
        "arr = np.random.randint(low=1, high=5, size=10)  # low 이상 high 미만 값을 랜덤하게 출력\n",
        "print(arr)\n",
        "\n",
        "arr = np.random.randint(1, 5, size=(3,4))\n",
        "print(arr)"
      ],
      "metadata": {
        "colab": {
          "base_uri": "https://localhost:8080/"
        },
        "id": "eO0kHYo3nyqB",
        "outputId": "b5d03d96-d8b4-4a5f-84ec-139d25611c26"
      },
      "execution_count": 24,
      "outputs": [
        {
          "output_type": "stream",
          "name": "stdout",
          "text": [
            "[2 3 3 1 1 3 2 3 2 3]\n",
            "[[3 1 3 3]\n",
            " [2 4 4 3]\n",
            " [1 3 3 4]]\n"
          ]
        }
      ]
    },
    {
      "cell_type": "code",
      "source": [
        "arr = np.random.randint(100, 200, 1000)\n",
        "plt.hist(arr, bins=100)\n",
        "plt.show()"
      ],
      "metadata": {
        "colab": {
          "base_uri": "https://localhost:8080/",
          "height": 265
        },
        "id": "A0dAkXbhoR0N",
        "outputId": "ac230810-66b6-440d-aa0a-88b359efa731"
      },
      "execution_count": 25,
      "outputs": [
        {
          "output_type": "display_data",
          "data": {
            "image/png": "[encoded data removed]",
            "text/plain": [
              "<Figure size 432x288 with 1 Axes>"
            ]
          },
          "metadata": {
            "needs_background": "light"
          }
        }
      ]
    },
    {
      "cell_type": "code",
      "source": [
        "# rand(), randn(), randint()\n",
        "# 가장 많이 사용되는 랜덤 함수"
      ],
      "metadata": {
        "id": "ihNjXVKxoZf4"
      },
      "execution_count": 26,
      "outputs": []
    },
    {
      "cell_type": "markdown",
      "source": [
        "## **1-6. 시드(Seed)값을 통한 난수 생성 제어**"
      ],
      "metadata": {
        "id": "gvgx8xn1oiBY"
      }
    },
    {
      "cell_type": "code",
      "source": [
        "arr = np.random.rand(10)\n",
        "print(\"난수 발생 1\\n\", arr)\n",
        "\n",
        "arr = np.random.rand(10)\n",
        "print(\"난수 발생 2\\n\", arr)"
      ],
      "metadata": {
        "colab": {
          "base_uri": "https://localhost:8080/"
        },
        "id": "dpvb1j2XonUB",
        "outputId": "66d53d16-b609-489e-a7fc-274b13c4256c"
      },
      "execution_count": 27,
      "outputs": [
        {
          "output_type": "stream",
          "name": "stdout",
          "text": [
            "난수 발생 1\n",
            " [0.54280159 0.80095852 0.89888082 0.59963704 0.20364506 0.01244483\n",
            " 0.68261894 0.82391925 0.67667664 0.61931226]\n",
            "난수 발생 2\n",
            " [0.76501869 0.58702824 0.3553776  0.85023646 0.14081417 0.21011835\n",
            " 0.21426594 0.69570953 0.61299546 0.34110342]\n"
          ]
        }
      ]
    },
    {
      "cell_type": "code",
      "source": [
        "# seed로 시작점을 지정하여 1과 2에서 동일한 난수 표본 생성\n",
        "# 항상 seed 함수를 적어야 동일한 표본 생성 가능\n",
        "\n",
        "np.random.seed(1)  # seed 함수\n",
        "arr = np.random.rand(10)\n",
        "print(\"난수 발생 1\\n\", arr)\n",
        "\n",
        "np.random.seed(1)  # seed 함수\n",
        "arr = np.random.rand(10)\n",
        "print(\"난수 발생 2\\n\", arr)"
      ],
      "metadata": {
        "colab": {
          "base_uri": "https://localhost:8080/"
        },
        "id": "koZJeI1no2Ky",
        "outputId": "d5150639-c49a-4131-fd0d-b197eb948f4c"
      },
      "execution_count": 28,
      "outputs": [
        {
          "output_type": "stream",
          "name": "stdout",
          "text": [
            "난수 발생 1\n",
            " [4.17022005e-01 7.20324493e-01 1.14374817e-04 3.02332573e-01\n",
            " 1.46755891e-01 9.23385948e-02 1.86260211e-01 3.45560727e-01\n",
            " 3.96767474e-01 5.38816734e-01]\n",
            "난수 발생 2\n",
            " [4.17022005e-01 7.20324493e-01 1.14374817e-04 3.02332573e-01\n",
            " 1.46755891e-01 9.23385948e-02 1.86260211e-01 3.45560727e-01\n",
            " 3.96767474e-01 5.38816734e-01]\n"
          ]
        }
      ]
    },
    {
      "cell_type": "markdown",
      "source": [
        "# Section 2. N차원 배열의 인덱싱"
      ],
      "metadata": {
        "id": "LQFCIDxrtfMq"
      }
    },
    {
      "cell_type": "markdown",
      "source": [
        "## **2-1. 배열의 index 접근하기**"
      ],
      "metadata": {
        "id": "7NkIN3rHtmFA"
      }
    },
    {
      "cell_type": "code",
      "source": [
        "# 1차원 배열\n",
        "arr = np.arange(10)  # arr = np.array([0, 1, 2, 3, 4, 5, 6, 7, 8, 9])\n",
        "print(arr)\n",
        "\n",
        "print(arr[3])\n",
        "print(arr[1])\n",
        "print(arr[-1])"
      ],
      "metadata": {
        "colab": {
          "base_uri": "https://localhost:8080/"
        },
        "id": "8McoJvZ2tpjp",
        "outputId": "a5051139-f0c5-497d-f3f2-92af7ea20d3d"
      },
      "execution_count": 29,
      "outputs": [
        {
          "output_type": "stream",
          "name": "stdout",
          "text": [
            "[0 1 2 3 4 5 6 7 8 9]\n",
            "3\n",
            "1\n",
            "9\n"
          ]
        }
      ]
    },
    {
      "cell_type": "code",
      "source": [
        "# 2차원 배열\n",
        "arr = np.array([[1, 2, 3, 4],\n",
        "                [5, 6, 7, 8],\n",
        "                [9, 10, 11, 12]])\n",
        "print(arr, arr.shape, arr.ndim)\n",
        "print(arr[0][3])  # 0행에 해당하는 리스트에서 3열에 해당하는 값 출력"
      ],
      "metadata": {
        "colab": {
          "base_uri": "https://localhost:8080/"
        },
        "id": "-dNk7KdU9A5R",
        "outputId": "416c5581-df18-4999-e270-85d30060a4f9"
      },
      "execution_count": 30,
      "outputs": [
        {
          "output_type": "stream",
          "name": "stdout",
          "text": [
            "[[ 1  2  3  4]\n",
            " [ 5  6  7  8]\n",
            " [ 9 10 11 12]] (3, 4) 2\n",
            "4\n"
          ]
        }
      ]
    },
    {
      "cell_type": "code",
      "source": [
        "arr = np.array([0, 1, 2, 3, 4, 5, 6, 7, 8, 9])\n",
        "print(arr[3:8])\n",
        "print(arr[3:])\n",
        "print(arr[:7])\n",
        "print(arr[:-1])"
      ],
      "metadata": {
        "colab": {
          "base_uri": "https://localhost:8080/"
        },
        "id": "-VUt-vos9bUB",
        "outputId": "ee374fd3-e791-4957-bfa4-4a38f3347547"
      },
      "execution_count": 31,
      "outputs": [
        {
          "output_type": "stream",
          "name": "stdout",
          "text": [
            "[3 4 5 6 7]\n",
            "[3 4 5 6 7 8 9]\n",
            "[0 1 2 3 4 5 6]\n",
            "[0 1 2 3 4 5 6 7 8]\n"
          ]
        }
      ]
    },
    {
      "cell_type": "code",
      "source": [
        "arr = np.array([[1, 2, 3, 4],\n",
        "                [5, 6, 7, 8],\n",
        "                [9, 10, 11, 12]])\n",
        "print(arr[0, :])  # 특정 행 출력\n",
        "print(arr[:, 1])  # 특정 열 출력"
      ],
      "metadata": {
        "colab": {
          "base_uri": "https://localhost:8080/"
        },
        "id": "NGE8y4lw91TR",
        "outputId": "fdb38bc8-e534-4554-d6a5-bd4d841a8c60"
      },
      "execution_count": 32,
      "outputs": [
        {
          "output_type": "stream",
          "name": "stdout",
          "text": [
            "[1 2 3 4]\n",
            "[ 2  6 10]\n"
          ]
        }
      ]
    },
    {
      "cell_type": "code",
      "source": [
        "print(arr[:3, :])\n",
        "print(arr[:2, 2:])"
      ],
      "metadata": {
        "colab": {
          "base_uri": "https://localhost:8080/"
        },
        "id": "Brkvp6VT-Huk",
        "outputId": "c39fb291-e726-40be-bf86-fad0e8349bef"
      },
      "execution_count": 33,
      "outputs": [
        {
          "output_type": "stream",
          "name": "stdout",
          "text": [
            "[[ 1  2  3  4]\n",
            " [ 5  6  7  8]\n",
            " [ 9 10 11 12]]\n",
            "[[3 4]\n",
            " [7 8]]\n"
          ]
        }
      ]
    },
    {
      "cell_type": "markdown",
      "source": [
        "## **2-2. 배열의 Fancy 인덱싱**"
      ],
      "metadata": {
        "id": "KcwXwT16-YQ_"
      }
    },
    {
      "cell_type": "code",
      "source": [
        "# 1차원 배열\n",
        "arr = np.array([5, 10, 15, 20, 25, 30])\n",
        "print(arr[[0, 2, 4]])"
      ],
      "metadata": {
        "colab": {
          "base_uri": "https://localhost:8080/"
        },
        "id": "6UbiNqKy-bxg",
        "outputId": "1238578e-016a-4819-97f0-7e6493dde814"
      },
      "execution_count": 34,
      "outputs": [
        {
          "output_type": "stream",
          "name": "stdout",
          "text": [
            "[ 5 15 25]\n"
          ]
        }
      ]
    },
    {
      "cell_type": "code",
      "source": [
        "# 2차원 배열\n",
        "arr = np.array([[5, 10, 15, 20],\n",
        "                [25, 30, 35, 40],\n",
        "                [45, 50, 55, 60]])\n",
        "print(arr[[0, 2], 2:])\n",
        "print(arr[1:, [2, 3]])"
      ],
      "metadata": {
        "colab": {
          "base_uri": "https://localhost:8080/"
        },
        "id": "ZCvGPgYb-jwF",
        "outputId": "8074b1be-fdaa-4419-a5c2-25336c683d78"
      },
      "execution_count": 35,
      "outputs": [
        {
          "output_type": "stream",
          "name": "stdout",
          "text": [
            "[[15 20]\n",
            " [55 60]]\n",
            "[[35 40]\n",
            " [55 60]]\n"
          ]
        }
      ]
    },
    {
      "cell_type": "markdown",
      "source": [
        "## **2-3. 배열의 Boolean 인덱싱**"
      ],
      "metadata": {
        "id": "0j8FvJkS_Nug"
      }
    },
    {
      "cell_type": "code",
      "source": [
        "arr = np.array([1, 2, 3, 4])\n",
        "print(arr[[True, False, True, True]])  # True에 해당하는 인덱싱 값만 출력\n",
        "\n",
        "arr = np.array([[1, 2, 3, 4],\n",
        "                [5, 6, 7, 8]])\n",
        "print(arr[[True, False], True])"
      ],
      "metadata": {
        "colab": {
          "base_uri": "https://localhost:8080/"
        },
        "id": "fl0hqHYv_SZU",
        "outputId": "3440f432-8a81-4ffa-bb73-959d73deb9a8"
      },
      "execution_count": 36,
      "outputs": [
        {
          "output_type": "stream",
          "name": "stdout",
          "text": [
            "[1 3 4]\n",
            "[[1 2 3 4]]\n"
          ]
        }
      ]
    },
    {
      "cell_type": "code",
      "source": [
        "arr = np.array([[1, 2, 3, 4],\n",
        "                [5, 6, 7, 8]])\n",
        "print(arr[arr > 3])\n",
        "print(arr[arr <= 2])"
      ],
      "metadata": {
        "colab": {
          "base_uri": "https://localhost:8080/"
        },
        "id": "IMABf5j7_pX4",
        "outputId": "d22c2bfc-db60-4761-8277-130f4c86775f"
      },
      "execution_count": 37,
      "outputs": [
        {
          "output_type": "stream",
          "name": "stdout",
          "text": [
            "[4 5 6 7 8]\n",
            "[1 2]\n"
          ]
        }
      ]
    },
    {
      "cell_type": "markdown",
      "source": [
        "# Section 3. N차원 배열 연산법"
      ],
      "metadata": {
        "id": "dQkt35ZK_zb2"
      }
    },
    {
      "cell_type": "markdown",
      "source": [
        "## **3-1. 배열의 연산1: 사칙연산/제곱/제곱근/몫/나머지**"
      ],
      "metadata": {
        "id": "8-7WocEsABDe"
      }
    },
    {
      "cell_type": "code",
      "source": [
        "arr1 = np.array([[1, 2, 3],\n",
        "                 [4, 5, 6],\n",
        "                 [7, 8, 9]])\n",
        "arr2 = np.array([[2, 2, 2],\n",
        "                 [2, 2, 2],\n",
        "                 [2, 2, 2]])\n",
        "print(arr1)\n",
        "print(arr2)"
      ],
      "metadata": {
        "colab": {
          "base_uri": "https://localhost:8080/"
        },
        "id": "8opvgfw-AGVZ",
        "outputId": "e462f76b-df23-40df-d3f7-ee6be7cd879a"
      },
      "execution_count": 38,
      "outputs": [
        {
          "output_type": "stream",
          "name": "stdout",
          "text": [
            "[[1 2 3]\n",
            " [4 5 6]\n",
            " [7 8 9]]\n",
            "[[2 2 2]\n",
            " [2 2 2]\n",
            " [2 2 2]]\n"
          ]
        }
      ]
    },
    {
      "cell_type": "code",
      "source": [
        "# 덧셈\n",
        "print(arr1 + arr2)\n",
        "print(np.add(arr1, arr2))"
      ],
      "metadata": {
        "colab": {
          "base_uri": "https://localhost:8080/"
        },
        "id": "i2GYbWDFAT5p",
        "outputId": "f3a6b45c-42ab-483f-e823-77d4cab33a43"
      },
      "execution_count": 39,
      "outputs": [
        {
          "output_type": "stream",
          "name": "stdout",
          "text": [
            "[[ 3  4  5]\n",
            " [ 6  7  8]\n",
            " [ 9 10 11]]\n",
            "[[ 3  4  5]\n",
            " [ 6  7  8]\n",
            " [ 9 10 11]]\n"
          ]
        }
      ]
    },
    {
      "cell_type": "code",
      "source": [
        "# 뺄셈\n",
        "print(arr1 - arr2)\n",
        "print(np.subtract(arr1, arr2))"
      ],
      "metadata": {
        "colab": {
          "base_uri": "https://localhost:8080/"
        },
        "id": "0avWh3dTAeQQ",
        "outputId": "05572123-d505-499e-b558-93b9858d963e"
      },
      "execution_count": 40,
      "outputs": [
        {
          "output_type": "stream",
          "name": "stdout",
          "text": [
            "[[-1  0  1]\n",
            " [ 2  3  4]\n",
            " [ 5  6  7]]\n",
            "[[-1  0  1]\n",
            " [ 2  3  4]\n",
            " [ 5  6  7]]\n"
          ]
        }
      ]
    },
    {
      "cell_type": "code",
      "source": [
        "# 곱셈\n",
        "print(arr1 * arr2)\n",
        "print(np.multiply(arr1, arr2))"
      ],
      "metadata": {
        "colab": {
          "base_uri": "https://localhost:8080/"
        },
        "id": "kYvET2yqAlJk",
        "outputId": "0329ce4f-07a5-4ecf-97ab-266c90e1e275"
      },
      "execution_count": 41,
      "outputs": [
        {
          "output_type": "stream",
          "name": "stdout",
          "text": [
            "[[ 2  4  6]\n",
            " [ 8 10 12]\n",
            " [14 16 18]]\n",
            "[[ 2  4  6]\n",
            " [ 8 10 12]\n",
            " [14 16 18]]\n"
          ]
        }
      ]
    },
    {
      "cell_type": "code",
      "source": [
        "# 나눗셈\n",
        "print(arr1 / arr2)\n",
        "print(np.divide(arr1, arr2))"
      ],
      "metadata": {
        "colab": {
          "base_uri": "https://localhost:8080/"
        },
        "id": "A2pAEkh7Ayt0",
        "outputId": "178acf88-8612-4b2b-de99-38999fbaa9e4"
      },
      "execution_count": 42,
      "outputs": [
        {
          "output_type": "stream",
          "name": "stdout",
          "text": [
            "[[0.5 1.  1.5]\n",
            " [2.  2.5 3. ]\n",
            " [3.5 4.  4.5]]\n",
            "[[0.5 1.  1.5]\n",
            " [2.  2.5 3. ]\n",
            " [3.5 4.  4.5]]\n"
          ]
        }
      ]
    },
    {
      "cell_type": "code",
      "source": [
        "# 제곱\n",
        "arr1 = np.array([[1, 2, 3],\n",
        "                 [4, 5, 6],\n",
        "                 [7, 8, 9]])\n",
        "arr2 = np.array([[2, 2, 2],\n",
        "                 [2, 2, 2],\n",
        "                 [2, 2, 2]])\n",
        "print(arr1 ** 2)\n",
        "print(np.square(arr1))\n",
        "\n",
        "# 제곱근\n",
        "print(np.sqrt(arr1))"
      ],
      "metadata": {
        "colab": {
          "base_uri": "https://localhost:8080/"
        },
        "id": "hCnW1qp7A21_",
        "outputId": "a46a8841-65d2-4f5e-b9dd-51c6c181f2fb"
      },
      "execution_count": 43,
      "outputs": [
        {
          "output_type": "stream",
          "name": "stdout",
          "text": [
            "[[ 1  4  9]\n",
            " [16 25 36]\n",
            " [49 64 81]]\n",
            "[[ 1  4  9]\n",
            " [16 25 36]\n",
            " [49 64 81]]\n",
            "[[1.         1.41421356 1.73205081]\n",
            " [2.         2.23606798 2.44948974]\n",
            " [2.64575131 2.82842712 3.        ]]\n"
          ]
        }
      ]
    },
    {
      "cell_type": "code",
      "source": [
        "# 몫\n",
        "print(arr1 // arr2)\n",
        "\n",
        "# 나머지\n",
        "print(arr1 % arr2)"
      ],
      "metadata": {
        "colab": {
          "base_uri": "https://localhost:8080/"
        },
        "id": "Kp8TBCY4BH8R",
        "outputId": "ab0e689f-ee3a-4a09-c278-9301fa2ab966"
      },
      "execution_count": 44,
      "outputs": [
        {
          "output_type": "stream",
          "name": "stdout",
          "text": [
            "[[0 1 1]\n",
            " [2 2 3]\n",
            " [3 4 4]]\n",
            "[[1 0 1]\n",
            " [0 1 0]\n",
            " [1 0 1]]\n"
          ]
        }
      ]
    },
    {
      "cell_type": "markdown",
      "source": [
        "## **3-2. 배열의 연산2: 내적(dot product)/절댓값/올림/내림/반올림/버림**"
      ],
      "metadata": {
        "id": "N7gwyZ3eECqM"
      }
    },
    {
      "cell_type": "code",
      "source": [
        "# 1차원 행렬\n",
        "arr1 = np.array([2, 3, 4])\n",
        "arr2 = np.array([1, 2, 3])\n",
        "\n",
        "print(np.dot(arr1, arr2))  # 2*1 + 3*2 + 4*3 = 20"
      ],
      "metadata": {
        "colab": {
          "base_uri": "https://localhost:8080/"
        },
        "id": "2SmFJgq-EGmt",
        "outputId": "7dd104d5-3bea-4d0c-bc12-631149cb7b5b"
      },
      "execution_count": 45,
      "outputs": [
        {
          "output_type": "stream",
          "name": "stdout",
          "text": [
            "20\n"
          ]
        }
      ]
    },
    {
      "cell_type": "code",
      "source": [
        "# 2차원 행렬\n",
        "'''\n",
        "arr1 = [[a, b]    arr2 = [[e, f]        [[ae + bg, af + bh]\n",
        "        [c, d]]           [g, h]]  =>    [ce + dg, cf + dh]]\n",
        "'''\n",
        "\n",
        "arr1 = np.array([[1, 2],\n",
        "                 [4, 5]])\n",
        "arr2 = np.array([[1, 2],\n",
        "                 [0, 3]])\n",
        "print(np.dot(arr1, arr2))  # 1*1 + 2*0 = 1 / 1*2 + 2*3 = 8 / 4*1 + 5*0 = 4 / 4*2 + 5*3 = 23"
      ],
      "metadata": {
        "colab": {
          "base_uri": "https://localhost:8080/"
        },
        "id": "4PkZDSsqFCRi",
        "outputId": "07329b01-1ee1-460c-f61a-6c50d881837e"
      },
      "execution_count": 46,
      "outputs": [
        {
          "output_type": "stream",
          "name": "stdout",
          "text": [
            "[[ 1  8]\n",
            " [ 4 23]]\n"
          ]
        }
      ]
    },
    {
      "cell_type": "code",
      "source": [
        "# 절댓값\n",
        "arr1 = np.array([[1, -2],\n",
        "                 [-4, 5]])\n",
        "print(np.abs(arr1))"
      ],
      "metadata": {
        "colab": {
          "base_uri": "https://localhost:8080/"
        },
        "id": "Q8IQFvyAGdDP",
        "outputId": "a76ad66c-5b70-4c27-cf9e-a62767e5ad64"
      },
      "execution_count": 47,
      "outputs": [
        {
          "output_type": "stream",
          "name": "stdout",
          "text": [
            "[[1 2]\n",
            " [4 5]]\n"
          ]
        }
      ]
    },
    {
      "cell_type": "code",
      "source": [
        "# 올림\n",
        "arr1 = np.array([[1.932, -2.339],\n",
        "                 [-4.145, 5.206]])\n",
        "print(np.ceil(arr1))\n",
        "\n",
        "# 내림\n",
        "print(np.floor(arr1))\n",
        "\n",
        "# 반올림\n",
        "print(np.round(arr1))\n",
        "\n",
        "# 버림\n",
        "print(np.trunc(arr1))"
      ],
      "metadata": {
        "colab": {
          "base_uri": "https://localhost:8080/"
        },
        "id": "xvlCFVwFGk2-",
        "outputId": "8116c72d-251f-44d7-e6d3-0bf617ad3ec6"
      },
      "execution_count": 48,
      "outputs": [
        {
          "output_type": "stream",
          "name": "stdout",
          "text": [
            "[[ 2. -2.]\n",
            " [-4.  6.]]\n",
            "[[ 1. -3.]\n",
            " [-5.  5.]]\n",
            "[[ 2. -2.]\n",
            " [-4.  5.]]\n",
            "[[ 1. -2.]\n",
            " [-4.  5.]]\n"
          ]
        }
      ]
    },
    {
      "cell_type": "markdown",
      "source": [
        "## **3-3. 배열의 연산3: min/max/sum/mean/std/cumsum/median**"
      ],
      "metadata": {
        "id": "TZ2d_rW3G9a1"
      }
    },
    {
      "cell_type": "code",
      "source": [
        "arr = np.array([[1, 2, 3],\n",
        "                [0, 1, 4]])"
      ],
      "metadata": {
        "id": "7-umF4e7HDtx"
      },
      "execution_count": 49,
      "outputs": []
    },
    {
      "cell_type": "code",
      "source": [
        "# min()\n",
        "print(np.min(arr))\n",
        "print(arr.min())\n",
        "print(arr.min(axis=0))  # axis=0 각 열에서 min값 출력\n",
        "print(arr.min(axis=1))  # axis=1 각 행에서 min값 출력"
      ],
      "metadata": {
        "colab": {
          "base_uri": "https://localhost:8080/"
        },
        "id": "TKMcDuIxHGoq",
        "outputId": "94d87b53-f90d-4b36-c0c8-0b4360f2689e"
      },
      "execution_count": 50,
      "outputs": [
        {
          "output_type": "stream",
          "name": "stdout",
          "text": [
            "0\n",
            "0\n",
            "[0 1 3]\n",
            "[1 0]\n"
          ]
        }
      ]
    },
    {
      "cell_type": "code",
      "source": [
        "# max()\n",
        "print(np.max(arr))\n",
        "print(arr.max())\n",
        "print(arr.max(axis=0))\n",
        "print(arr.max(axis=1))"
      ],
      "metadata": {
        "colab": {
          "base_uri": "https://localhost:8080/"
        },
        "id": "X7ZvHrYlHtUi",
        "outputId": "155f17b3-997f-4b27-d02a-ee04ff1f07b8"
      },
      "execution_count": 51,
      "outputs": [
        {
          "output_type": "stream",
          "name": "stdout",
          "text": [
            "4\n",
            "4\n",
            "[1 2 4]\n",
            "[3 4]\n"
          ]
        }
      ]
    },
    {
      "cell_type": "code",
      "source": [
        "# sum()\n",
        "print(np.sum(arr))\n",
        "print(arr.sum())\n",
        "print(arr.sum(axis=0))\n",
        "print(arr.sum(axis=1))"
      ],
      "metadata": {
        "colab": {
          "base_uri": "https://localhost:8080/"
        },
        "id": "LlUeklb2H4ZZ",
        "outputId": "5f19be17-e69f-4ded-91a9-06a019378bd7"
      },
      "execution_count": 52,
      "outputs": [
        {
          "output_type": "stream",
          "name": "stdout",
          "text": [
            "11\n",
            "11\n",
            "[1 3 7]\n",
            "[6 5]\n"
          ]
        }
      ]
    },
    {
      "cell_type": "code",
      "source": [
        "arr = np.array([[1, 2, 3],\n",
        "                [0, 1, 4]])"
      ],
      "metadata": {
        "id": "LoHyXwbqIS3C"
      },
      "execution_count": 53,
      "outputs": []
    },
    {
      "cell_type": "code",
      "source": [
        "# mean()\n",
        "print(np.mean(arr))\n",
        "print(arr.mean())\n",
        "print(arr.mean(axis=0))\n",
        "print(arr.mean(axis=1))"
      ],
      "metadata": {
        "colab": {
          "base_uri": "https://localhost:8080/"
        },
        "id": "QM_-xK5HICtQ",
        "outputId": "265f9eb7-cc68-40ff-ba8c-2e8b4b6b851a"
      },
      "execution_count": 54,
      "outputs": [
        {
          "output_type": "stream",
          "name": "stdout",
          "text": [
            "1.8333333333333333\n",
            "1.8333333333333333\n",
            "[0.5 1.5 3.5]\n",
            "[2.         1.66666667]\n"
          ]
        }
      ]
    },
    {
      "cell_type": "code",
      "source": [
        "# std()\n",
        "# 표준편차\n",
        "print(np.std(arr))\n",
        "print(arr.std())\n",
        "print(arr.std(axis=0))\n",
        "print(arr.std(axis=1))"
      ],
      "metadata": {
        "colab": {
          "base_uri": "https://localhost:8080/"
        },
        "id": "y41D9J0WIWo0",
        "outputId": "ede1ead8-2114-4538-be91-8d43d2e763d6"
      },
      "execution_count": 55,
      "outputs": [
        {
          "output_type": "stream",
          "name": "stdout",
          "text": [
            "1.343709624716425\n",
            "1.343709624716425\n",
            "[0.5 0.5 0.5]\n",
            "[0.81649658 1.69967317]\n"
          ]
        }
      ]
    },
    {
      "cell_type": "code",
      "source": [
        "# cumsum()\n",
        "print(np.cumsum(arr))\n",
        "print(arr.cumsum())\n",
        "print(arr.cumsum(axis=0))\n",
        "print(arr.cumsum(axis=1))"
      ],
      "metadata": {
        "colab": {
          "base_uri": "https://localhost:8080/"
        },
        "id": "9bNJmjohIkVL",
        "outputId": "24a50c7a-d199-4748-b67f-e21373d8d709"
      },
      "execution_count": 56,
      "outputs": [
        {
          "output_type": "stream",
          "name": "stdout",
          "text": [
            "[ 1  3  6  6  7 11]\n",
            "[ 1  3  6  6  7 11]\n",
            "[[1 2 3]\n",
            " [1 3 7]]\n",
            "[[1 3 6]\n",
            " [0 1 5]]\n"
          ]
        }
      ]
    },
    {
      "cell_type": "code",
      "source": [
        "arr = np.array([[1, 2, 3],\n",
        "                [0, 1, 4]])"
      ],
      "metadata": {
        "id": "NYzSQ7viJKTB"
      },
      "execution_count": 57,
      "outputs": []
    },
    {
      "cell_type": "code",
      "source": [
        "# median()\n",
        "print(np.median(arr))  # arr의 중앙에 있는 1과 2의 중앙값 1.5 출력"
      ],
      "metadata": {
        "colab": {
          "base_uri": "https://localhost:8080/"
        },
        "id": "jo7lXScgJG0C",
        "outputId": "30d93558-28c9-4c3b-d461-26e161accab8"
      },
      "execution_count": 58,
      "outputs": [
        {
          "output_type": "stream",
          "name": "stdout",
          "text": [
            "1.5\n"
          ]
        }
      ]
    },
    {
      "cell_type": "code",
      "source": [
        "arr = np.array([[1, 2, 3],\n",
        "                [0, 1, 4],\n",
        "                [1, 5, 2]])"
      ],
      "metadata": {
        "id": "Bb1_ZqywJl0E"
      },
      "execution_count": 59,
      "outputs": []
    },
    {
      "cell_type": "code",
      "source": [
        "print(np.median(arr, axis=0))  # arr를 정렬하고 각 열의 중앙에 있는 값을 출력 ex) 가운데 열인 2, 1, 5는 1, 2, 5로 정렬되므로 2 출력\n",
        "print(np.median(arr, axis=1))"
      ],
      "metadata": {
        "colab": {
          "base_uri": "https://localhost:8080/"
        },
        "id": "bdR9FmAfJolD",
        "outputId": "d0ec08ce-78b9-437e-8084-5b5ea75395c3"
      },
      "execution_count": 60,
      "outputs": [
        {
          "output_type": "stream",
          "name": "stdout",
          "text": [
            "[1. 2. 3.]\n",
            "[2. 1. 2.]\n"
          ]
        }
      ]
    },
    {
      "cell_type": "markdown",
      "source": [
        "## **3-4. 배열의 연산4: 비교 연산/삼각 함수**"
      ],
      "metadata": {
        "id": "6PyKJQMAKG5g"
      }
    },
    {
      "cell_type": "code",
      "source": [
        "# 비교 연산\n",
        "# 출력값은 bool\n",
        "arr1 = np.array([[1, 2, 3],\n",
        "                 [4, 5, 6]])\n",
        "arr2 = np.array([[1, 0, 3],\n",
        "                 [4, -2, 9]])\n",
        "print(arr1 == arr2)\n",
        "print(arr1 > arr2)\n",
        "print(np.array_equal(arr1, arr2))"
      ],
      "metadata": {
        "colab": {
          "base_uri": "https://localhost:8080/"
        },
        "id": "4oQ5m6n4KL8z",
        "outputId": "2bf34226-37f0-411f-8a8e-8442e3e12746"
      },
      "execution_count": 61,
      "outputs": [
        {
          "output_type": "stream",
          "name": "stdout",
          "text": [
            "[[ True False  True]\n",
            " [ True False False]]\n",
            "[[False  True False]\n",
            " [False  True False]]\n",
            "False\n"
          ]
        }
      ]
    },
    {
      "cell_type": "code",
      "source": [
        "# 삼각 함수\n",
        "arr = np.array([[1, 2, 3],\n",
        "                [4, 5, 6]])\n",
        "\n",
        "# sin()\n",
        "print(np.sin(arr))\n",
        "\n",
        "# cos()\n",
        "print(np.cos(arr))\n",
        "\n",
        "# tan()\n",
        "print(np.tan(arr))\n",
        "\n",
        "# pi\n",
        "print(np.pi)"
      ],
      "metadata": {
        "colab": {
          "base_uri": "https://localhost:8080/"
        },
        "id": "uRUhTDoCKmzD",
        "outputId": "15551c0c-d343-4025-b0d4-77844e8c0f8c"
      },
      "execution_count": 62,
      "outputs": [
        {
          "output_type": "stream",
          "name": "stdout",
          "text": [
            "[[ 0.84147098  0.90929743  0.14112001]\n",
            " [-0.7568025  -0.95892427 -0.2794155 ]]\n",
            "[[ 0.54030231 -0.41614684 -0.9899925 ]\n",
            " [-0.65364362  0.28366219  0.96017029]]\n",
            "[[ 1.55740772 -2.18503986 -0.14254654]\n",
            " [ 1.15782128 -3.38051501 -0.29100619]]\n",
            "3.141592653589793\n"
          ]
        }
      ]
    },
    {
      "cell_type": "markdown",
      "source": [
        "## **3-5. 브로드캐스팅(Broadcasting)**"
      ],
      "metadata": {
        "id": "gXJUglUtK7xA"
      }
    },
    {
      "cell_type": "markdown",
      "source": [
        "<img src=\"data:image/png;base64,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\" width=\"500\" height=\"250\"/>\n",
        "<img src=\"data:image/png;base64,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\" width=\"500\" height=\"250\" />"
      ],
      "metadata": {
        "id": "ICFrOpoMOxJz"
      }
    },
    {
      "cell_type": "code",
      "source": [
        "arr1 = np.array([[0, 0, 0],\n",
        "                 [1, 1, 1],\n",
        "                 [2, 2, 2]])\n",
        "arr2 = np.array([[5, 6, 7]])\n",
        "\n",
        "print(arr1 + arr2)"
      ],
      "metadata": {
        "colab": {
          "base_uri": "https://localhost:8080/"
        },
        "id": "QXxcfbS5QZ1V",
        "outputId": "50506519-c082-470c-be76-8dd810753d54"
      },
      "execution_count": 63,
      "outputs": [
        {
          "output_type": "stream",
          "name": "stdout",
          "text": [
            "[[5 6 7]\n",
            " [6 7 8]\n",
            " [7 8 9]]\n"
          ]
        }
      ]
    },
    {
      "cell_type": "code",
      "source": [
        "arr1 = np.array([[1, 1, 1]])\n",
        "arr2 = np.array([[0],\n",
        "                 [1],\n",
        "                 [2]])\n",
        "\n",
        "print(arr1 + arr2)"
      ],
      "metadata": {
        "colab": {
          "base_uri": "https://localhost:8080/"
        },
        "id": "lfh-JieeQq6g",
        "outputId": "23a83ba5-04e4-497b-9c59-14fc70594d49"
      },
      "execution_count": 64,
      "outputs": [
        {
          "output_type": "stream",
          "name": "stdout",
          "text": [
            "[[1 1 1]\n",
            " [2 2 2]\n",
            " [3 3 3]]\n"
          ]
        }
      ]
    },
    {
      "cell_type": "markdown",
      "source": [
        "## **3-6. 벡터 연산의 장점**"
      ],
      "metadata": {
        "id": "Vx1InfkAQ71K"
      }
    },
    {
      "cell_type": "code",
      "source": [
        "import time"
      ],
      "metadata": {
        "id": "hG26G4rRQ-ZM"
      },
      "execution_count": 65,
      "outputs": []
    },
    {
      "cell_type": "code",
      "source": [
        "arr = np.arange(99999999)"
      ],
      "metadata": {
        "id": "YK99SbS_REEf"
      },
      "execution_count": 66,
      "outputs": []
    },
    {
      "cell_type": "code",
      "source": [
        "# for\n",
        "sum = 0\n",
        "before = time.time()\n",
        "for i in arr:\n",
        "    sum += i\n",
        "after = time.time()\n",
        "print(sum, after - before, \"초\")"
      ],
      "metadata": {
        "colab": {
          "base_uri": "https://localhost:8080/"
        },
        "id": "j0JNssPzRH9R",
        "outputId": "6a1b3f6e-2c6d-4f47-93b6-aaef479d6c3f"
      },
      "execution_count": 67,
      "outputs": [
        {
          "output_type": "stream",
          "name": "stdout",
          "text": [
            "4999999850000001 30.31844186782837 초\n"
          ]
        }
      ]
    },
    {
      "cell_type": "code",
      "source": [
        "# 벡터 연산\n",
        "before = time.time()\n",
        "sum = np.sum(arr)\n",
        "after = time.time()\n",
        "print(sum, after-before, \"초\")"
      ],
      "metadata": {
        "colab": {
          "base_uri": "https://localhost:8080/"
        },
        "id": "7nv9PMUlRgIB",
        "outputId": "ac831999-bdea-4090-effe-2e6b8ce1a292"
      },
      "execution_count": 68,
      "outputs": [
        {
          "output_type": "stream",
          "name": "stdout",
          "text": [
            "4999999850000001 0.13002252578735352 초\n"
          ]
        }
      ]
    },
    {
      "cell_type": "code",
      "source": [
        "arr1 = np.arange(99999999)\n",
        "arr2 = np.arange(99999999)"
      ],
      "metadata": {
        "id": "jfwo4ytcRrM3"
      },
      "execution_count": 69,
      "outputs": []
    },
    {
      "cell_type": "code",
      "source": [
        "# for\n",
        "sum = 0\n",
        "before = time.time()\n",
        "for i, j in zip(arr1, arr2):\n",
        "    sum += i * j\n",
        "after = time.time()\n",
        "print(sum, after-before, \"초\")"
      ],
      "metadata": {
        "colab": {
          "base_uri": "https://localhost:8080/"
        },
        "id": "Ey6IiZT9RumJ",
        "outputId": "17273bde-86d5-429b-bac3-0796df66fbed"
      },
      "execution_count": 70,
      "outputs": [
        {
          "output_type": "stream",
          "name": "stderr",
          "text": [
            "/usr/local/lib/python3.7/dist-packages/ipykernel_launcher.py:5: RuntimeWarning: overflow encountered in long_scalars\n",
            "  \"\"\"\n"
          ]
        },
        {
          "output_type": "stream",
          "name": "stdout",
          "text": [
            "652921401952298879 56.12224507331848 초\n"
          ]
        }
      ]
    },
    {
      "cell_type": "code",
      "source": [
        "# 벡터 연산\n",
        "before = time.time()\n",
        "sum = np.dot(arr1, arr2)\n",
        "after = time.time()\n",
        "print(sum, after-before, \"초\")"
      ],
      "metadata": {
        "colab": {
          "base_uri": "https://localhost:8080/"
        },
        "id": "XuK0RJevSiTv",
        "outputId": "15510c2e-09df-4cf2-aeb5-7404a2112444"
      },
      "execution_count": 71,
      "outputs": [
        {
          "output_type": "stream",
          "name": "stdout",
          "text": [
            "652921401952298879 0.17647290229797363 초\n"
          ]
        }
      ]
    },
    {
      "cell_type": "markdown",
      "source": [
        "# Section 4. N차원 배열 정렬"
      ],
      "metadata": {
        "id": "3VWEG2zOga0A"
      }
    },
    {
      "cell_type": "markdown",
      "source": [
        "## **4-1. 1차원 배열의 정렬**"
      ],
      "metadata": {
        "id": "nRRjFSLoggLz"
      }
    },
    {
      "cell_type": "code",
      "source": [
        "arr = np.random.randint(10, size=10)\n",
        "print(arr)"
      ],
      "metadata": {
        "colab": {
          "base_uri": "https://localhost:8080/"
        },
        "id": "22PypGSzgi-M",
        "outputId": "d0b60c6c-4c42-4889-c458-abda371b73e1"
      },
      "execution_count": 78,
      "outputs": [
        {
          "output_type": "stream",
          "name": "stdout",
          "text": [
            "[9 3 4 8 1 4 0 3 9 2]\n"
          ]
        }
      ]
    },
    {
      "cell_type": "code",
      "source": [
        "print(np.sort(arr))\n",
        "print(np.sort(arr)[::-1])"
      ],
      "metadata": {
        "colab": {
          "base_uri": "https://localhost:8080/"
        },
        "id": "I3oE6PBrh6ZK",
        "outputId": "4ee67368-0beb-4c2b-874b-86afdd23018b"
      },
      "execution_count": 79,
      "outputs": [
        {
          "output_type": "stream",
          "name": "stdout",
          "text": [
            "[0 1 2 3 3 4 4 8 9 9]\n",
            "[9 9 8 4 4 3 3 2 1 0]\n"
          ]
        }
      ]
    },
    {
      "cell_type": "code",
      "source": [
        "arr = np.sort(arr)\n",
        "print(arr)\n",
        "\n",
        "arr.sort()\n",
        "print(arr)"
      ],
      "metadata": {
        "colab": {
          "base_uri": "https://localhost:8080/"
        },
        "id": "831u8md4iBks",
        "outputId": "57f2ffdf-5aa7-48f8-8d0b-a15bc52f4607"
      },
      "execution_count": 83,
      "outputs": [
        {
          "output_type": "stream",
          "name": "stdout",
          "text": [
            "[0 1 2 3 3 4 4 8 9 9]\n",
            "[0 1 2 3 3 4 4 8 9 9]\n"
          ]
        }
      ]
    },
    {
      "cell_type": "markdown",
      "source": [
        "## **4-2. 2차원 배열의 정렬**"
      ],
      "metadata": {
        "id": "OzIe1LCAiOxN"
      }
    },
    {
      "cell_type": "code",
      "source": [
        "arr = np.random.randint(15, size=(3, 4))\n",
        "print(arr)"
      ],
      "metadata": {
        "colab": {
          "base_uri": "https://localhost:8080/"
        },
        "id": "BrAONah3iUlQ",
        "outputId": "2658efe7-273c-4a51-8881-c13528fda5f7"
      },
      "execution_count": 85,
      "outputs": [
        {
          "output_type": "stream",
          "name": "stdout",
          "text": [
            "[[ 7 14  7 13]\n",
            " [ 4 11  5  9]\n",
            " [ 3  6  8  0]]\n"
          ]
        }
      ]
    },
    {
      "cell_type": "code",
      "source": [
        "print(np.sort(arr))  # 각 행의 리스트를 오름차순 정렬\n",
        "print(np.sort(arr, axis=0))  # shape 전체의 값을 오름차순 정렬\n",
        "print(np.sort(arr, axis=None))  # 2차원 배열을 1차원 배열로 바꾸고 오름차순 정렬"
      ],
      "metadata": {
        "colab": {
          "base_uri": "https://localhost:8080/"
        },
        "id": "sqhRXwrCiiVA",
        "outputId": "8339359e-2f17-4437-e7f1-a48e9cd646b6"
      },
      "execution_count": 90,
      "outputs": [
        {
          "output_type": "stream",
          "name": "stdout",
          "text": [
            "[[ 7  7 13 14]\n",
            " [ 4  5  9 11]\n",
            " [ 0  3  6  8]]\n",
            "[[ 3  6  5  0]\n",
            " [ 4 11  7  9]\n",
            " [ 7 14  8 13]]\n",
            "[ 0  3  4  5  6  7  7  8  9 11 13 14]\n"
          ]
        }
      ]
    },
    {
      "cell_type": "code",
      "source": [
        "# argsort()\n",
        "# 원소가 정렬이 되었을 때, 정렬이 된 원소의 원래 배열에서의 인덱스를 반환\n",
        "\n",
        "print(np.sort(arr, axis=1))\n",
        "print(np.argsort(arr, axis=1))  # 가로 기준 인덱스 번호\n",
        "\n",
        "print(np.sort(arr, axis=0))\n",
        "print(np.argsort(arr, axis=0))  # 세로 기준 인덱스 번호"
      ],
      "metadata": {
        "colab": {
          "base_uri": "https://localhost:8080/"
        },
        "id": "oWDQk32RiyAr",
        "outputId": "2f5de3b1-fbc8-4f5d-f026-c73227397aa9"
      },
      "execution_count": 92,
      "outputs": [
        {
          "output_type": "stream",
          "name": "stdout",
          "text": [
            "[[ 7  7 13 14]\n",
            " [ 4  5  9 11]\n",
            " [ 0  3  6  8]]\n",
            "[[0 2 3 1]\n",
            " [0 2 3 1]\n",
            " [3 0 1 2]]\n",
            "[[ 3  6  5  0]\n",
            " [ 4 11  7  9]\n",
            " [ 7 14  8 13]]\n",
            "[[2 2 1 2]\n",
            " [1 1 0 1]\n",
            " [0 0 2 0]]\n"
          ]
        }
      ]
    },
    {
      "cell_type": "markdown",
      "source": [
        "# Section 5. N차원 배열의 형태 변경"
      ],
      "metadata": {
        "id": "safvMY2fkitY"
      }
    },
    {
      "cell_type": "markdown",
      "source": [
        "## **5-1. 배열의 형태 변경1:reshape()**"
      ],
      "metadata": {
        "id": "VeFyDBA8kpW7"
      }
    },
    {
      "cell_type": "code",
      "source": [
        "arr = np.arange(12)\n",
        "print(arr, arr.ndim)\n",
        "\n",
        "arr = arr.reshape((3, 4))  # (3, 4) 또는 (4, 3)으로 shape을 바꿀 수 있음 -> size 12에 맞춰야 됨\n",
        "print(arr, arr.ndim)\n",
        "\n",
        "arr = arr.reshape((2, 3, 2))\n",
        "print(arr, arr.ndim)\n",
        "\n",
        "arr = arr.reshape((2, 2, 1, 3))\n",
        "print(arr, arr.ndim)"
      ],
      "metadata": {
        "colab": {
          "base_uri": "https://localhost:8080/"
        },
        "id": "sxWRw1xVktW-",
        "outputId": "42b7d547-0c49-48c4-e601-d2687c9361d5"
      },
      "execution_count": 96,
      "outputs": [
        {
          "output_type": "stream",
          "name": "stdout",
          "text": [
            "[ 0  1  2  3  4  5  6  7  8  9 10 11] 1\n",
            "[[ 0  1  2  3]\n",
            " [ 4  5  6  7]\n",
            " [ 8  9 10 11]] 2\n",
            "[[[ 0  1]\n",
            "  [ 2  3]\n",
            "  [ 4  5]]\n",
            "\n",
            " [[ 6  7]\n",
            "  [ 8  9]\n",
            "  [10 11]]] 3\n",
            "[[[[ 0  1  2]]\n",
            "\n",
            "  [[ 3  4  5]]]\n",
            "\n",
            "\n",
            " [[[ 6  7  8]]\n",
            "\n",
            "  [[ 9 10 11]]]] 4\n"
          ]
        }
      ]
    },
    {
      "cell_type": "code",
      "source": [
        "arr = np.arange(1, 13)\n",
        "print(arr)\n",
        "\n",
        "arr = arr.reshape(3, -1)  # (3, -1)이라고 shape을 지정하면 '-1' 부분은 자동으로 지정이 됨 -> (3, -1)이면 size를 12로 맞춰야 하므로, (3, -1) -> (3, 4)로 reshape됨\n",
        "print(arr)  # -1로 설정하면 굳이 사이즈에 맞춰 곱하기한 결과를 고려할 필요가 없음\n",
        "\n",
        "arr = arr.reshape(3, 2, -1)\n",
        "print(arr)\n",
        "\n",
        "# arr = arr.reshape(3, -1, -1)  -> 오류 발생, 하나의 차원만 지정하지 않을 수 있음"
      ],
      "metadata": {
        "colab": {
          "base_uri": "https://localhost:8080/"
        },
        "id": "gsVuZ17cnpa3",
        "outputId": "5c4ba798-adea-48d0-a548-a9564a880ec1"
      },
      "execution_count": 103,
      "outputs": [
        {
          "output_type": "stream",
          "name": "stdout",
          "text": [
            "[ 1  2  3  4  5  6  7  8  9 10 11 12]\n",
            "[[ 1  2  3  4]\n",
            " [ 5  6  7  8]\n",
            " [ 9 10 11 12]]\n",
            "[[[ 1  2]\n",
            "  [ 3  4]]\n",
            "\n",
            " [[ 5  6]\n",
            "  [ 7  8]]\n",
            "\n",
            " [[ 9 10]\n",
            "  [11 12]]]\n"
          ]
        }
      ]
    },
    {
      "cell_type": "markdown",
      "source": [
        "- `Curse of Dimensionality` : 차원의 저주\n",
        "- 빅데이터나 딥러닝에서 발생할 수 있음\n",
        "- 차원이 증가하면서 학습 데이터 수가 차원의 수보다 적어지면서 모델의 성능이 저하되는 현상\n",
        "\n",
        "<img src=\"data:image/png;base64,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\" width=\"1000\" height=\"500\" />"
      ],
      "metadata": {
        "id": "eowgh5RqlPeK"
      }
    },
    {
      "cell_type": "markdown",
      "source": [
        "**※ 위의 사진 참고**\n",
        "- 1차원 좌표 상에서는 데이터 수가 10개로 일정 -> 데이터들 사이 간격이 크지 않음\n",
        "- 축이 2개인 2차원 좌표 평면 상에서는 데이터 간격이 벌어짐\n",
        "- 축이 3개인 입체 공간 상에서는 1차원, 2차원에서보다 데이터 사이 간격이 더 큼"
      ],
      "metadata": {
        "id": "SIU8uAmpmO_J"
      }
    },
    {
      "cell_type": "markdown",
      "source": [
        "## **5-2. 배열의 형태 변경2:resize(), ravel()**"
      ],
      "metadata": {
        "id": "elLLCLium959"
      }
    },
    {
      "cell_type": "code",
      "source": [
        "arr = np.arange(12)\n",
        "print(arr)"
      ],
      "metadata": {
        "colab": {
          "base_uri": "https://localhost:8080/"
        },
        "id": "76eijLw7nD-R",
        "outputId": "abf951c7-bc03-4444-8c89-7d0b5daef629"
      },
      "execution_count": 97,
      "outputs": [
        {
          "output_type": "stream",
          "name": "stdout",
          "text": [
            "[ 0  1  2  3  4  5  6  7  8  9 10 11]\n"
          ]
        }
      ]
    },
    {
      "cell_type": "code",
      "source": [
        "# resize()\n",
        "# reshape()과의 차이점 : resize()는 원본 데이터를 변경함\n",
        "\n",
        "arr.resize(3, 4)\n",
        "print(arr)"
      ],
      "metadata": {
        "colab": {
          "base_uri": "https://localhost:8080/"
        },
        "id": "2d7TwMEZnF-5",
        "outputId": "24ba6487-5a5e-492c-abaf-5c7abccddc49"
      },
      "execution_count": 98,
      "outputs": [
        {
          "output_type": "stream",
          "name": "stdout",
          "text": [
            "[[ 0  1  2  3]\n",
            " [ 4  5  6  7]\n",
            " [ 8  9 10 11]]\n"
          ]
        }
      ]
    },
    {
      "cell_type": "code",
      "source": [
        "# revel()\n",
        "# 1차원 배열로 변경하는 함수\n",
        "\n",
        "arr = arr.ravel()\n",
        "print(arr)"
      ],
      "metadata": {
        "colab": {
          "base_uri": "https://localhost:8080/"
        },
        "id": "B85aotNXngtS",
        "outputId": "b4eb201d-4ef4-45f4-f789-3700fe9ac070"
      },
      "execution_count": 99,
      "outputs": [
        {
          "output_type": "stream",
          "name": "stdout",
          "text": [
            "[ 0  1  2  3  4  5  6  7  8  9 10 11]\n"
          ]
        }
      ]
    },
    {
      "cell_type": "markdown",
      "source": [
        "## **5-3. 배열의 형태 변경3:expand_dims(), squeeze()**"
      ],
      "metadata": {
        "id": "xlOuECdXomQk"
      }
    },
    {
      "cell_type": "code",
      "source": [
        "# expand_dims()\n",
        "# 한 차원을 추가하는 함수\n",
        "\n",
        "arr = np.array([1, 2])\n",
        "print(arr, arr.shape)\n",
        "\n",
        "arr = np.expand_dims(arr, axis=0)\n",
        "print(arr, arr.shape)\n",
        "\n",
        "arr = np.expand_dims(arr, axis=1)\n",
        "print(arr, arr.shape)"
      ],
      "metadata": {
        "colab": {
          "base_uri": "https://localhost:8080/"
        },
        "id": "TgU-zwoiourh",
        "outputId": "17cbd4f3-7890-4aac-c303-29c9facc69e2"
      },
      "execution_count": 106,
      "outputs": [
        {
          "output_type": "stream",
          "name": "stdout",
          "text": [
            "[1 2] (2,)\n",
            "[[1 2]] (1, 2)\n",
            "[[[1 2]]] (1, 1, 2)\n"
          ]
        }
      ]
    },
    {
      "cell_type": "code",
      "source": [
        "# squeeze()\n",
        "# 배열의 축을 하나 제거하는 함수(차원 축소 함수)\n",
        "\n",
        "arr = np.array([[1, 2]])\n",
        "print(arr, arr.shape, arr.ndim, end=\"\\n\\n\")\n",
        "\n",
        "arr = np.squeeze(arr, axis=0)\n",
        "print(arr, arr.shape, arr.ndim, end=\"\\n\\n\")\n",
        "\n",
        "arr = np.array([[[1],\n",
        "                [2],\n",
        "                [3]]])\n",
        "print(arr, arr.shape, arr.ndim, end=\"\\n\\n\")\n",
        "arr = np.squeeze(arr, axis=0)  # x축 기준으로 차원 축소\n",
        "print(arr, arr.shape, arr.ndim, end=\"\\n\\n\")\n",
        "\n",
        "arr = np.array([[[1, 2, 3]]])\n",
        "print(arr, arr.shape, arr.ndim)\n",
        "arr = np.squeeze(arr, axis=1)  # y축 기준으로 차원 축소\n",
        "print(arr, arr.shape, arr.ndim)"
      ],
      "metadata": {
        "colab": {
          "base_uri": "https://localhost:8080/"
        },
        "id": "6ClPXtvMpDFm",
        "outputId": "59f529ab-3225-4b1f-acfe-a4fbfe30b94a"
      },
      "execution_count": 150,
      "outputs": [
        {
          "output_type": "stream",
          "name": "stdout",
          "text": [
            "[[1 2]] (1, 2) 2\n",
            "\n",
            "[1 2] (2,) 1\n",
            "\n",
            "[[[1]\n",
            "  [2]\n",
            "  [3]]] (1, 3, 1) 3\n",
            "\n",
            "[[1]\n",
            " [2]\n",
            " [3]] (3, 1) 2\n",
            "\n",
            "[[[1 2 3]]] (1, 1, 3) 3\n",
            "[[1 2 3]] (1, 3) 2\n"
          ]
        }
      ]
    },
    {
      "cell_type": "markdown",
      "source": [
        "## **5-4. 전치행렬(Transpose Matrix)**"
      ],
      "metadata": {
        "id": "n1Sr1NWoqHKI"
      }
    },
    {
      "cell_type": "markdown",
      "source": [
        "<img src=\"data:image/png;base64,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\" width=\"750\" height=\"500\" />"
      ],
      "metadata": {
        "id": "lXxm-GmcqOiU"
      }
    },
    {
      "cell_type": "code",
      "source": [
        "arr = np.array([[1, 2],\n",
        "                [3, 4]])\n",
        "print(arr.T)\n",
        "print(np.transpose(arr))\n",
        "\n",
        "arr = np.array([[1, 2, 3],\n",
        "                [4, 5, 6],\n",
        "                [7, 8, 9]])\n",
        "print(arr.T)"
      ],
      "metadata": {
        "colab": {
          "base_uri": "https://localhost:8080/"
        },
        "id": "BpqPAxZKrcrj",
        "outputId": "adc2e5ee-f221-4ab1-8202-2357f5538825"
      },
      "execution_count": 118,
      "outputs": [
        {
          "output_type": "stream",
          "name": "stdout",
          "text": [
            "[[1 3]\n",
            " [2 4]]\n",
            "[[1 3]\n",
            " [2 4]]\n",
            "[[1 4 7]\n",
            " [2 5 8]\n",
            " [3 6 9]]\n"
          ]
        }
      ]
    },
    {
      "cell_type": "code",
      "source": [
        "arr = np.array([[1, 2],\n",
        "                [3, 4],\n",
        "                [5, 6]])\n",
        "print(arr.T)\n",
        "\n",
        "arr2 = np.full((3, 2), 2)\n",
        "# arr2 = [[2, 2, 2],\n",
        "#         [2, 2, 2]]\n",
        "# print(arr.dot(arr2))\n",
        "# ValueError: shapes (3,2) and (3,2) not aligned: 2 (dim 1) != 3 (dim 0)\n",
        "# 오류 발생 원인 : dot product 연산을 하기 위해서는 한 배열의 행의 개수와 연산을 할 배열의 열의 개수가 동일해야 됨.\n",
        "\n",
        "print((arr.T).dot(arr2))\n",
        "print(arr.dot(arr2.T))"
      ],
      "metadata": {
        "colab": {
          "base_uri": "https://localhost:8080/"
        },
        "id": "lM--_mSDr7qW",
        "outputId": "08764cb8-3d01-470b-ca4f-8beb439587bc"
      },
      "execution_count": 124,
      "outputs": [
        {
          "output_type": "stream",
          "name": "stdout",
          "text": [
            "[[1 3 5]\n",
            " [2 4 6]]\n",
            "[[18 18]\n",
            " [24 24]]\n",
            "[[ 6  6  6]\n",
            " [14 14 14]\n",
            " [22 22 22]]\n"
          ]
        }
      ]
    },
    {
      "cell_type": "markdown",
      "source": [
        "## **6-1. 배열에 원소 추가 및 삭제**"
      ],
      "metadata": {
        "id": "36Xhr_gotrVB"
      }
    },
    {
      "cell_type": "code",
      "source": [
        "# python list\n",
        "arr = [1, 2, 3, 4, 5, 6, 7, 8]\n",
        "arr.insert(2, 50)\n",
        "print(arr)\n",
        "\n",
        "# 1차원 배열\n",
        "arr = np.arange(1, 9)\n",
        "arr = np.insert(arr, 2, 50)\n",
        "print(arr)"
      ],
      "metadata": {
        "colab": {
          "base_uri": "https://localhost:8080/"
        },
        "id": "pZ9AnpwPuyq1",
        "outputId": "3d96f37b-7d4f-4b22-e5d9-3add7984f27d"
      },
      "execution_count": 126,
      "outputs": [
        {
          "output_type": "stream",
          "name": "stdout",
          "text": [
            "[1, 2, 50, 3, 4, 5, 6, 7, 8]\n",
            "[ 1  2 50  3  4  5  6  7  8]\n"
          ]
        }
      ]
    },
    {
      "cell_type": "code",
      "source": [
        "# 2차원 배열\n",
        "arr1 = np.arange(1, 13).reshape(3, 4)\n",
        "arr1 = np.insert(arr1, 2, 50, axis=0)\n",
        "print(arr1, end=\"\\n\\n\")\n",
        "\n",
        "arr2 = np.arange(1, 13).reshape(3, 4)\n",
        "arr2 = np.insert(arr2, 2, 50, axis=1)\n",
        "print(arr2, end=\"\\n\\n\")\n",
        "\n",
        "arr3 = np.arange(1, 13).reshape(3, 4)\n",
        "arr3 = np.insert(arr3, 2, 50)\n",
        "print(arr3)"
      ],
      "metadata": {
        "colab": {
          "base_uri": "https://localhost:8080/"
        },
        "id": "n2Dkl24mvD7e",
        "outputId": "9fab3231-af3d-44b5-c487-5470256abadf"
      },
      "execution_count": 146,
      "outputs": [
        {
          "output_type": "stream",
          "name": "stdout",
          "text": [
            "[[ 1  2  3  4]\n",
            " [ 5  6  7  8]\n",
            " [50 50 50 50]\n",
            " [ 9 10 11 12]]\n",
            "\n",
            "[[ 1  2 50  3  4]\n",
            " [ 5  6 50  7  8]\n",
            " [ 9 10 50 11 12]]\n",
            "\n",
            "[ 1  2 50  3  4  5  6  7  8  9 10 11 12]\n"
          ]
        }
      ]
    },
    {
      "cell_type": "code",
      "source": [
        "# delete()\n",
        "arr = np.arange(1, 13).reshape(3, 4)\n",
        "print(arr)\n",
        "\n",
        "arr = np.delete(arr, 2, axis=0)\n",
        "print(arr)\n",
        "\n",
        "arr1 = np.arange(1, 13).reshape(3, 4)\n",
        "arr1 = np.delete(arr1, 2, axis=1)\n",
        "print(arr1)\n",
        "\n",
        "arr2 = np.arange(1, 13).reshape(3, 4)\n",
        "arr2 = np.delete(arr1, 2)\n",
        "print(arr2)"
      ],
      "metadata": {
        "colab": {
          "base_uri": "https://localhost:8080/"
        },
        "id": "MYRgbx_VvvwD",
        "outputId": "6f6e8474-cc2f-4b10-a714-98b1ce93afb0"
      },
      "execution_count": 144,
      "outputs": [
        {
          "output_type": "stream",
          "name": "stdout",
          "text": [
            "[[ 1  2  3  4]\n",
            " [ 5  6  7  8]\n",
            " [ 9 10 11 12]]\n",
            "[[1 2 3 4]\n",
            " [5 6 7 8]]\n",
            "[[ 1  2  4]\n",
            " [ 5  6  8]\n",
            " [ 9 10 12]]\n",
            "[ 1  2  5  6  8  9 10 12]\n"
          ]
        }
      ]
    },
    {
      "cell_type": "markdown",
      "source": [
        "## **6-2. 배열 간의 병합**"
      ],
      "metadata": {
        "id": "QBVvudY1wJLq"
      }
    },
    {
      "cell_type": "code",
      "source": [
        "# append()\n",
        "arr1 = np.arange(1, 13).reshape(3, 4)\n",
        "arr2 = np.arange(13, 25).reshape(3, 4)\n",
        "\n",
        "print(arr1)\n",
        "print(arr2, end=\"\\n\\n\")\n",
        "\n",
        "# axis=0\n",
        "# arr3 = np.append(arr1, arr2, axis=0)\n",
        "# print(arr3, end=\"\\n\\n\")\n",
        "\n",
        "# axis=1\n",
        "arr3 = np.append(arr1, arr2, axis=1)\n",
        "print(arr3, end=\"\\n\\n\")\n",
        "\n",
        "# axis 지정X\n",
        "# arr3 = np.append(arr1, arr2)\n",
        "# print(arr3, end=\"\\n\\n\")"
      ],
      "metadata": {
        "colab": {
          "base_uri": "https://localhost:8080/"
        },
        "id": "1n2QEPFHwNPc",
        "outputId": "4c5ef4a6-e5c1-4b03-dc42-390f6e5c95d0"
      },
      "execution_count": 156,
      "outputs": [
        {
          "output_type": "stream",
          "name": "stdout",
          "text": [
            "[[ 1  2  3  4]\n",
            " [ 5  6  7  8]\n",
            " [ 9 10 11 12]]\n",
            "[[13 14 15 16]\n",
            " [17 18 19 20]\n",
            " [21 22 23 24]]\n",
            "\n",
            "[[ 1  2  3  4 13 14 15 16]\n",
            " [ 5  6  7  8 17 18 19 20]\n",
            " [ 9 10 11 12 21 22 23 24]]\n",
            "\n"
          ]
        }
      ]
    },
    {
      "cell_type": "code",
      "source": [
        "# vstack(), hstack()\n",
        "arr1 = np.arange(1, 7).reshape(2, 3)\n",
        "arr2 = np.arange(7, 13).reshape(2, 3)\n",
        "\n",
        "arr3 = np.vstack((arr1, arr2))  # axis=0으로 지정하여 병합한 것과 같음\n",
        "print(arr3)\n",
        "\n",
        "arr3 = np.hstack((arr1, arr2))  # axis=1로 지정하여 병합한 것과 같음\n",
        "print(arr3)"
      ],
      "metadata": {
        "colab": {
          "base_uri": "https://localhost:8080/"
        },
        "id": "KMpreuVrw-kS",
        "outputId": "50e1c9ea-fec1-4e60-a72b-4fc6bed3e458"
      },
      "execution_count": 155,
      "outputs": [
        {
          "output_type": "stream",
          "name": "stdout",
          "text": [
            "[[ 1  2  3]\n",
            " [ 4  5  6]\n",
            " [ 7  8  9]\n",
            " [10 11 12]]\n",
            "[[ 1  2  3  7  8  9]\n",
            " [ 4  5  6 10 11 12]]\n"
          ]
        }
      ]
    },
    {
      "cell_type": "code",
      "source": [
        "# concatenate()\n",
        "arr1 = np.arange(1, 7).reshape(2, 3)\n",
        "arr2 = np.arange(7, 13).reshape(2, 3)\n",
        "\n",
        "# axis=0\n",
        "# arr3 = np.concatenate([arr1, arr2], axis=0)\n",
        "# print(arr3)\n",
        "\n",
        "# axis=1\n",
        "arr3 = np.concatenate([arr1, arr2], axis=1)\n",
        "print(arr3)"
      ],
      "metadata": {
        "colab": {
          "base_uri": "https://localhost:8080/"
        },
        "id": "wRaimE93xZP5",
        "outputId": "96fef90c-a448-41cf-fe45-5275317240b3"
      },
      "execution_count": 158,
      "outputs": [
        {
          "output_type": "stream",
          "name": "stdout",
          "text": [
            "[[ 1  2  3  7  8  9]\n",
            " [ 4  5  6 10 11 12]]\n"
          ]
        }
      ]
    },
    {
      "cell_type": "markdown",
      "source": [
        "## **6-3. 배열 분할**"
      ],
      "metadata": {
        "id": "UkjK7DgBxplT"
      }
    },
    {
      "cell_type": "code",
      "source": [
        "# 2차원 배열\n",
        "arr = np.arange(1, 13).reshape(3, 4)\n",
        "print(arr)\n",
        "\n",
        "# vsplit() => axis=0을 기준으로 분할\n",
        "arr_vsplit = np.vsplit(arr, 3)  # 홀수개로만 분할 가능\n",
        "print(arr_vsplit, end=\"\\n\\n\")\n",
        "\n",
        "# hsplit() => axis=1\n",
        "arr_hsplit = np.hsplit(arr, 4)  # 짝수개로만 분할 가능\n",
        "print(arr_hsplit)"
      ],
      "metadata": {
        "colab": {
          "base_uri": "https://localhost:8080/"
        },
        "id": "MbH3e5uKxrun",
        "outputId": "8876512b-90e8-4dfb-df5e-1280868bad13"
      },
      "execution_count": 162,
      "outputs": [
        {
          "output_type": "stream",
          "name": "stdout",
          "text": [
            "[[ 1  2  3  4]\n",
            " [ 5  6  7  8]\n",
            " [ 9 10 11 12]]\n",
            "[array([[1, 2, 3, 4]]), array([[5, 6, 7, 8]]), array([[ 9, 10, 11, 12]])]\n",
            "\n",
            "[array([[1],\n",
            "       [5],\n",
            "       [9]]), array([[ 2],\n",
            "       [ 6],\n",
            "       [10]]), array([[ 3],\n",
            "       [ 7],\n",
            "       [11]]), array([[ 4],\n",
            "       [ 8],\n",
            "       [12]])]\n"
          ]
        }
      ]
    },
    {
      "cell_type": "code",
      "source": [
        "# 3차원 배열\n",
        "arr = np.random.randint(0, 10, (4, 6, 8))\n",
        "print(arr)"
      ],
      "metadata": {
        "colab": {
          "base_uri": "https://localhost:8080/"
        },
        "id": "ifFmhMS7yM_K",
        "outputId": "d96ab1cb-00c2-460f-9a77-c7e70b5fc70d"
      },
      "execution_count": 163,
      "outputs": [
        {
          "output_type": "stream",
          "name": "stdout",
          "text": [
            "[[[2 7 7 9 7 3 0 8]\n",
            "  [7 7 1 1 3 0 8 6]\n",
            "  [4 5 6 2 5 7 8 4]\n",
            "  [4 7 7 4 9 0 2 0]\n",
            "  [7 1 7 9 8 4 0 1]\n",
            "  [9 8 2 3 1 2 7 2]]\n",
            "\n",
            " [[6 0 9 2 6 6 2 7]\n",
            "  [7 0 6 5 1 4 6 0]\n",
            "  [6 5 1 2 1 5 4 0]\n",
            "  [7 8 9 5 7 0 9 3]\n",
            "  [9 1 4 4 6 8 8 9]\n",
            "  [2 7 5 5 4 5 8 5]]\n",
            "\n",
            " [[8 1 1 8 7 0 3 4]\n",
            "  [2 0 3 5 1 2 4 3]\n",
            "  [0 6 0 7 2 8 3 0]\n",
            "  [8 4 2 9 0 3 8 1]\n",
            "  [4 3 3 6 7 3 5 3]\n",
            "  [2 4 4 0 3 3 8 3]]\n",
            "\n",
            " [[5 6 7 5 1 7 0 2]\n",
            "  [8 2 1 4 0 4 1 7]\n",
            "  [3 1 6 6 9 6 9 6]\n",
            "  [0 0 2 9 6 0 6 7]\n",
            "  [0 3 9 0 3 4 7 5]\n",
            "  [3 8 8 0 6 7 9 5]]]\n"
          ]
        }
      ]
    },
    {
      "cell_type": "code",
      "source": [
        "arr_vsplit = np.vsplit(arr, 2)\n",
        "print(arr_vsplit)"
      ],
      "metadata": {
        "colab": {
          "base_uri": "https://localhost:8080/"
        },
        "id": "_OG5pznLyUgO",
        "outputId": "3c730a36-6d48-4f3d-9552-6cec888872d0"
      },
      "execution_count": 164,
      "outputs": [
        {
          "output_type": "stream",
          "name": "stdout",
          "text": [
            "[array([[[2, 7, 7, 9, 7, 3, 0, 8],\n",
            "        [7, 7, 1, 1, 3, 0, 8, 6],\n",
            "        [4, 5, 6, 2, 5, 7, 8, 4],\n",
            "        [4, 7, 7, 4, 9, 0, 2, 0],\n",
            "        [7, 1, 7, 9, 8, 4, 0, 1],\n",
            "        [9, 8, 2, 3, 1, 2, 7, 2]],\n",
            "\n",
            "       [[6, 0, 9, 2, 6, 6, 2, 7],\n",
            "        [7, 0, 6, 5, 1, 4, 6, 0],\n",
            "        [6, 5, 1, 2, 1, 5, 4, 0],\n",
            "        [7, 8, 9, 5, 7, 0, 9, 3],\n",
            "        [9, 1, 4, 4, 6, 8, 8, 9],\n",
            "        [2, 7, 5, 5, 4, 5, 8, 5]]]), array([[[8, 1, 1, 8, 7, 0, 3, 4],\n",
            "        [2, 0, 3, 5, 1, 2, 4, 3],\n",
            "        [0, 6, 0, 7, 2, 8, 3, 0],\n",
            "        [8, 4, 2, 9, 0, 3, 8, 1],\n",
            "        [4, 3, 3, 6, 7, 3, 5, 3],\n",
            "        [2, 4, 4, 0, 3, 3, 8, 3]],\n",
            "\n",
            "       [[5, 6, 7, 5, 1, 7, 0, 2],\n",
            "        [8, 2, 1, 4, 0, 4, 1, 7],\n",
            "        [3, 1, 6, 6, 9, 6, 9, 6],\n",
            "        [0, 0, 2, 9, 6, 0, 6, 7],\n",
            "        [0, 3, 9, 0, 3, 4, 7, 5],\n",
            "        [3, 8, 8, 0, 6, 7, 9, 5]]])]\n"
          ]
        }
      ]
    },
    {
      "cell_type": "code",
      "source": [
        "arr = np.random.randint(0, 10, (4, 6, 8))\n",
        "print(arr)"
      ],
      "metadata": {
        "colab": {
          "base_uri": "https://localhost:8080/"
        },
        "id": "gvoNRgAayist",
        "outputId": "df3307fe-0689-4229-80d2-b679a947a8e7"
      },
      "execution_count": 165,
      "outputs": [
        {
          "output_type": "stream",
          "name": "stdout",
          "text": [
            "[[[4 9 5 2 5 6 6 8]\n",
            "  [7 7 7 2 6 0 5 2]\n",
            "  [1 8 5 9 4 9 1 2]\n",
            "  [0 4 7 0 6 2 4 3]\n",
            "  [6 7 6 3 0 6 4 7]\n",
            "  [6 2 9 5 9 9 9 8]]\n",
            "\n",
            " [[6 4 2 9 4 0 0 3]\n",
            "  [4 9 3 9 1 2 5 4]\n",
            "  [0 8 2 3 9 9 4 4]\n",
            "  [8 2 1 6 3 8 9 7]\n",
            "  [0 5 2 2 8 5 0 5]\n",
            "  [9 8 6 6 0 4 7 3]]\n",
            "\n",
            " [[0 1 6 0 6 1 6 4]\n",
            "  [2 5 4 6 2 9 2 7]\n",
            "  [5 0 7 8 8 8 0 7]\n",
            "  [2 0 7 1 1 9 5 1]\n",
            "  [5 9 6 4 9 8 7 5]\n",
            "  [1 8 0 5 3 9 0 4]]\n",
            "\n",
            " [[8 6 2 4 3 2 0 0]\n",
            "  [4 2 5 0 0 3 8 5]\n",
            "  [3 1 4 7 3 2 2 2]\n",
            "  [6 6 0 1 5 6 5 8]\n",
            "  [8 5 5 7 5 9 1 3]\n",
            "  [9 3 3 3 6 1 3 0]]]\n"
          ]
        }
      ]
    },
    {
      "cell_type": "code",
      "source": [
        "arr_hsplit = np.hsplit(arr, 2)\n",
        "print(arr_hsplit)"
      ],
      "metadata": {
        "colab": {
          "base_uri": "https://localhost:8080/"
        },
        "id": "Hv7XOR_UyjWO",
        "outputId": "90e3b0a5-0a22-4867-b08e-da43bb7ce501"
      },
      "execution_count": 171,
      "outputs": [
        {
          "output_type": "stream",
          "name": "stdout",
          "text": [
            "[array([[[4, 9, 5, 2, 5, 6, 6, 8],\n",
            "        [7, 7, 7, 2, 6, 0, 5, 2],\n",
            "        [1, 8, 5, 9, 4, 9, 1, 2]],\n",
            "\n",
            "       [[6, 4, 2, 9, 4, 0, 0, 3],\n",
            "        [4, 9, 3, 9, 1, 2, 5, 4],\n",
            "        [0, 8, 2, 3, 9, 9, 4, 4]],\n",
            "\n",
            "       [[0, 1, 6, 0, 6, 1, 6, 4],\n",
            "        [2, 5, 4, 6, 2, 9, 2, 7],\n",
            "        [5, 0, 7, 8, 8, 8, 0, 7]],\n",
            "\n",
            "       [[8, 6, 2, 4, 3, 2, 0, 0],\n",
            "        [4, 2, 5, 0, 0, 3, 8, 5],\n",
            "        [3, 1, 4, 7, 3, 2, 2, 2]]]), array([[[0, 4, 7, 0, 6, 2, 4, 3],\n",
            "        [6, 7, 6, 3, 0, 6, 4, 7],\n",
            "        [6, 2, 9, 5, 9, 9, 9, 8]],\n",
            "\n",
            "       [[8, 2, 1, 6, 3, 8, 9, 7],\n",
            "        [0, 5, 2, 2, 8, 5, 0, 5],\n",
            "        [9, 8, 6, 6, 0, 4, 7, 3]],\n",
            "\n",
            "       [[2, 0, 7, 1, 1, 9, 5, 1],\n",
            "        [5, 9, 6, 4, 9, 8, 7, 5],\n",
            "        [1, 8, 0, 5, 3, 9, 0, 4]],\n",
            "\n",
            "       [[6, 6, 0, 1, 5, 6, 5, 8],\n",
            "        [8, 5, 5, 7, 5, 9, 1, 3],\n",
            "        [9, 3, 3, 3, 6, 1, 3, 0]]])]\n"
          ]
        }
      ]
    }
  ]
}